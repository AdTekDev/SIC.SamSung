{
 "cells": [
  {
   "cell_type": "markdown",
   "id": "fc5e72d6",
   "metadata": {},
   "source": [
    "# Chapter 3. Exploratory Data Analysis"
   ]
  },
  {
   "cell_type": "code",
   "execution_count": null,
   "id": "c1417098",
   "metadata": {},
   "outputs": [],
   "source": []
  },
  {
   "cell_type": "markdown",
   "id": "b065b7c8",
   "metadata": {},
   "source": [
    "## đạo hàm - vi phân "
   ]
  },
  {
   "cell_type": "code",
   "execution_count": 1,
   "id": "ab98593e",
   "metadata": {},
   "outputs": [],
   "source": [
    "import  sympy  as sp \n",
    "import numpy as np"
   ]
  },
  {
   "cell_type": "code",
   "execution_count": 2,
   "id": "0d077cf3",
   "metadata": {},
   "outputs": [
    {
     "data": {
      "text/latex": [
       "$\\displaystyle x^{2020} + 3 x^{3} - 1$"
      ],
      "text/plain": [
       "x**2020 + 3*x**3 - 1"
      ]
     },
     "execution_count": 2,
     "metadata": {},
     "output_type": "execute_result"
    }
   ],
   "source": [
    "x = sp.Symbol('x')\n",
    "fx = x**2020 + 3*x**3 - 1\n",
    "fx"
   ]
  },
  {
   "cell_type": "code",
   "execution_count": 3,
   "id": "924bbf60",
   "metadata": {},
   "outputs": [
    {
     "data": {
      "text/latex": [
       "$\\displaystyle 2020 x^{2019} + 9 x^{2}$"
      ],
      "text/plain": [
       "2020*x**2019 + 9*x**2"
      ]
     },
     "execution_count": 3,
     "metadata": {},
     "output_type": "execute_result"
    }
   ],
   "source": [
    "fx.diff(x)"
   ]
  },
  {
   "cell_type": "code",
   "execution_count": 4,
   "id": "b47796b8",
   "metadata": {},
   "outputs": [
    {
     "data": {
      "text/latex": [
       "$\\displaystyle \\frac{x}{x + 1}$"
      ],
      "text/plain": [
       "x/(x + 1)"
      ]
     },
     "execution_count": 4,
     "metadata": {},
     "output_type": "execute_result"
    }
   ],
   "source": [
    "gx = x / (x + 1)\n",
    "gx "
   ]
  },
  {
   "cell_type": "code",
   "execution_count": 5,
   "id": "39e1d7cd",
   "metadata": {},
   "outputs": [
    {
     "data": {
      "text/latex": [
       "$\\displaystyle - \\frac{x}{\\left(x + 1\\right)^{2}} + \\frac{1}{x + 1}$"
      ],
      "text/plain": [
       "-x/(x + 1)**2 + 1/(x + 1)"
      ]
     },
     "execution_count": 5,
     "metadata": {},
     "output_type": "execute_result"
    }
   ],
   "source": [
    "gx.diff(x)"
   ]
  },
  {
   "cell_type": "code",
   "execution_count": 6,
   "id": "9d94be69",
   "metadata": {},
   "outputs": [
    {
     "data": {
      "text/latex": [
       "$\\displaystyle \\frac{1}{\\left(x + 1\\right)^{2}}$"
      ],
      "text/plain": [
       "(x + 1)**(-2)"
      ]
     },
     "execution_count": 6,
     "metadata": {},
     "output_type": "execute_result"
    }
   ],
   "source": [
    "sp.simplify(gx.diff(x))"
   ]
  },
  {
   "cell_type": "code",
   "execution_count": 7,
   "id": "998eda23",
   "metadata": {},
   "outputs": [
    {
     "data": {
      "text/latex": [
       "$\\displaystyle \\frac{e^{x}}{x}$"
      ],
      "text/plain": [
       "exp(x)/x"
      ]
     },
     "execution_count": 7,
     "metadata": {},
     "output_type": "execute_result"
    }
   ],
   "source": [
    "fx2 = sp.exp(x) / x \n",
    "fx2 "
   ]
  },
  {
   "cell_type": "code",
   "execution_count": 8,
   "id": "f13e6eaa",
   "metadata": {},
   "outputs": [
    {
     "data": {
      "text/latex": [
       "$\\displaystyle \\frac{e^{x}}{x} - \\frac{e^{x}}{x^{2}}$"
      ],
      "text/plain": [
       "exp(x)/x - exp(x)/x**2"
      ]
     },
     "execution_count": 8,
     "metadata": {},
     "output_type": "execute_result"
    }
   ],
   "source": [
    "fx2.diff(x)"
   ]
  },
  {
   "cell_type": "code",
   "execution_count": 9,
   "id": "0129351a",
   "metadata": {},
   "outputs": [
    {
     "data": {
      "text/latex": [
       "$\\displaystyle \\frac{\\left(x - 1\\right) e^{x}}{x^{2}}$"
      ],
      "text/plain": [
       "(x - 1)*exp(x)/x**2"
      ]
     },
     "execution_count": 9,
     "metadata": {},
     "output_type": "execute_result"
    }
   ],
   "source": [
    "sp.simplify(fx2.diff(x))"
   ]
  },
  {
   "cell_type": "code",
   "execution_count": 10,
   "id": "b6a87137",
   "metadata": {},
   "outputs": [
    {
     "data": {
      "text/latex": [
       "$\\displaystyle x \\log{\\left(x \\right)} + \\frac{3 \\log{\\left(x \\right)}}{\\log{\\left(2 \\right)}}$"
      ],
      "text/plain": [
       "x*log(x) + 3*log(x)/log(2)"
      ]
     },
     "execution_count": 10,
     "metadata": {},
     "output_type": "execute_result"
    }
   ],
   "source": [
    "gx2 = 3*sp.log(x,2) + x * sp.log(x)\n",
    "gx2"
   ]
  },
  {
   "cell_type": "code",
   "execution_count": 11,
   "id": "6d365865",
   "metadata": {},
   "outputs": [
    {
     "data": {
      "text/latex": [
       "$\\displaystyle \\log{\\left(x \\right)} + 1 + \\frac{3}{x \\log{\\left(2 \\right)}}$"
      ],
      "text/plain": [
       "log(x) + 1 + 3/(x*log(2))"
      ]
     },
     "execution_count": 11,
     "metadata": {},
     "output_type": "execute_result"
    }
   ],
   "source": [
    "gx2.diff(x)"
   ]
  },
  {
   "cell_type": "code",
   "execution_count": 12,
   "id": "09091ce1",
   "metadata": {},
   "outputs": [
    {
     "data": {
      "text/latex": [
       "$\\displaystyle \\left(x^{2} + 2\\right)^{3}$"
      ],
      "text/plain": [
       "(x**2 + 2)**3"
      ]
     },
     "execution_count": 12,
     "metadata": {},
     "output_type": "execute_result"
    }
   ],
   "source": [
    "fx3 = (x**2 + 2)**3\n",
    "fx3"
   ]
  },
  {
   "cell_type": "code",
   "execution_count": 15,
   "id": "8712bddf",
   "metadata": {},
   "outputs": [
    {
     "data": {
      "text/plain": [
       "(x**2 + 2, 2*x)"
      ]
     },
     "execution_count": 15,
     "metadata": {},
     "output_type": "execute_result"
    }
   ],
   "source": [
    "u = x**2 + 2\n",
    "u  ,  u.diff(x)"
   ]
  },
  {
   "cell_type": "code",
   "execution_count": 14,
   "id": "bea8ddc6",
   "metadata": {},
   "outputs": [
    {
     "data": {
      "text/latex": [
       "$\\displaystyle 6 x \\left(x^{2} + 2\\right)^{2}$"
      ],
      "text/plain": [
       "6*x*(x**2 + 2)**2"
      ]
     },
     "execution_count": 14,
     "metadata": {},
     "output_type": "execute_result"
    }
   ],
   "source": [
    "fx3.diff(x)"
   ]
  },
  {
   "cell_type": "code",
   "execution_count": 16,
   "id": "564410aa",
   "metadata": {},
   "outputs": [
    {
     "data": {
      "text/latex": [
       "$\\displaystyle \\frac{1}{\\left(x^{4} + 1\\right)^{2}}$"
      ],
      "text/plain": [
       "(x**4 + 1)**(-2)"
      ]
     },
     "execution_count": 16,
     "metadata": {},
     "output_type": "execute_result"
    }
   ],
   "source": [
    "gx3 = 1/(x**4 + 1)**2 \n",
    "gx3"
   ]
  },
  {
   "cell_type": "code",
   "execution_count": 17,
   "id": "0cc3a08b",
   "metadata": {},
   "outputs": [
    {
     "data": {
      "text/latex": [
       "$\\displaystyle - \\frac{8 x^{3}}{\\left(x^{4} + 1\\right)^{3}}$"
      ],
      "text/plain": [
       "-8*x**3/(x**4 + 1)**3"
      ]
     },
     "execution_count": 17,
     "metadata": {},
     "output_type": "execute_result"
    }
   ],
   "source": [
    "gx3.diff(x)"
   ]
  },
  {
   "cell_type": "code",
   "execution_count": 18,
   "id": "15fb3ac3",
   "metadata": {},
   "outputs": [
    {
     "data": {
      "text/latex": [
       "$\\displaystyle \\frac{1}{1 + e^{- x}}$"
      ],
      "text/plain": [
       "1/(1 + exp(-x))"
      ]
     },
     "execution_count": 18,
     "metadata": {},
     "output_type": "execute_result"
    }
   ],
   "source": [
    "sigm = 1 / (1 + sp.exp(-x))\n",
    "sigm"
   ]
  },
  {
   "cell_type": "code",
   "execution_count": 19,
   "id": "cc4c6d02",
   "metadata": {},
   "outputs": [
    {
     "data": {
      "text/latex": [
       "$\\displaystyle \\frac{e^{- x}}{\\left(1 + e^{- x}\\right)^{2}}$"
      ],
      "text/plain": [
       "exp(-x)/(1 + exp(-x))**2"
      ]
     },
     "execution_count": 19,
     "metadata": {},
     "output_type": "execute_result"
    }
   ],
   "source": [
    "sigm.diff(x)"
   ]
  }
 ],
 "metadata": {
  "kernelspec": {
   "display_name": "Python 3",
   "language": "python",
   "name": "python3"
  },
  "language_info": {
   "codemirror_mode": {
    "name": "ipython",
    "version": 3
   },
   "file_extension": ".py",
   "mimetype": "text/x-python",
   "name": "python",
   "nbconvert_exporter": "python",
   "pygments_lexer": "ipython3",
   "version": "3.12.1"
  }
 },
 "nbformat": 4,
 "nbformat_minor": 5
}
