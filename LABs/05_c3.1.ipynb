{
 "cells": [
  {
   "cell_type": "markdown",
   "id": "d41c16a1",
   "metadata": {},
   "source": [
    "### Chapter 3 - Unit 1. Numpy"
   ]
  },
  {
   "cell_type": "code",
   "execution_count": 20,
   "id": "b9690556",
   "metadata": {},
   "outputs": [],
   "source": [
    "import  numpy  as  np \n",
    "import  math "
   ]
  },
  {
   "cell_type": "code",
   "execution_count": 21,
   "id": "c90b0f0b",
   "metadata": {},
   "outputs": [
    {
     "data": {
      "text/plain": [
       "(array([1, 3, 5, 7, 9]), numpy.ndarray)"
      ]
     },
     "execution_count": 21,
     "metadata": {},
     "output_type": "execute_result"
    }
   ],
   "source": [
    "arr1 = np.array([1,3,5,7,9])\n",
    "\n",
    "arr1 ,  type(arr1)"
   ]
  },
  {
   "cell_type": "code",
   "execution_count": 22,
   "id": "5deb97e3",
   "metadata": {},
   "outputs": [
    {
     "data": {
      "text/plain": [
       "(array([1, 3, 5, 7, 9]), numpy.ndarray)"
      ]
     },
     "execution_count": 22,
     "metadata": {},
     "output_type": "execute_result"
    }
   ],
   "source": [
    "arr2 = np.array([1,3,5,7,9])\n",
    "\n",
    "arr2 ,  type(arr2)"
   ]
  },
  {
   "cell_type": "code",
   "execution_count": 24,
   "id": "ac2c1272",
   "metadata": {},
   "outputs": [
    {
     "data": {
      "text/plain": [
       "(1393369712752, 1393370305552)"
      ]
     },
     "execution_count": 24,
     "metadata": {},
     "output_type": "execute_result"
    }
   ],
   "source": [
    "id(arr1) , id(arr2)"
   ]
  },
  {
   "cell_type": "code",
   "execution_count": 25,
   "id": "a2c55896",
   "metadata": {},
   "outputs": [
    {
     "data": {
      "text/plain": [
       "(array([1, 3, 5, 7, 9]), 1393369712752)"
      ]
     },
     "execution_count": 25,
     "metadata": {},
     "output_type": "execute_result"
    }
   ],
   "source": [
    "arr3 = arr1 \n",
    "\n",
    "arr3 , id(arr3)"
   ]
  },
  {
   "cell_type": "code",
   "execution_count": 26,
   "id": "eac64f9b",
   "metadata": {},
   "outputs": [
    {
     "data": {
      "text/plain": [
       "(array([1, 3, 5, 7, 9]), array([1, 3, 5, 7, 9]))"
      ]
     },
     "execution_count": 26,
     "metadata": {},
     "output_type": "execute_result"
    }
   ],
   "source": [
    "arr1, arr3 "
   ]
  },
  {
   "cell_type": "code",
   "execution_count": 28,
   "id": "3711053c",
   "metadata": {},
   "outputs": [
    {
     "data": {
      "text/plain": [
       "(array([  1,   3,   5,   7, 100]), array([  1,   3,   5,   7, 100]))"
      ]
     },
     "execution_count": 28,
     "metadata": {},
     "output_type": "execute_result"
    }
   ],
   "source": [
    "arr3[4] = 100\n",
    "\n",
    "arr1 , arr3"
   ]
  },
  {
   "cell_type": "code",
   "execution_count": 33,
   "id": "586ea011",
   "metadata": {},
   "outputs": [
    {
     "data": {
      "text/plain": [
       "(array([  1,   3,   5,   7, 100]), array([  1,   3,   5,   7, 200]))"
      ]
     },
     "execution_count": 33,
     "metadata": {},
     "output_type": "execute_result"
    }
   ],
   "source": [
    "arr4 = arr1.copy() \n",
    "\n",
    "arr4[4] = 200\n",
    "\n",
    "arr1 , arr4"
   ]
  },
  {
   "cell_type": "code",
   "execution_count": 39,
   "id": "8d7fde5e",
   "metadata": {},
   "outputs": [
    {
     "name": "stdout",
     "output_type": "stream",
     "text": [
      "1393369712752 1393369712752\n",
      "4 1393376056752 1393376056752 True\n"
     ]
    }
   ],
   "source": [
    "i = 4\n",
    "print( id(arr1) , id(arr3) )\n",
    "print(i ,id(arr1[i]) , id(arr3[i]) , id(arr1[i]) == id(arr3[i]))"
   ]
  },
  {
   "cell_type": "code",
   "execution_count": 40,
   "id": "d034469f",
   "metadata": {},
   "outputs": [
    {
     "data": {
      "text/plain": [
       "((1, 3, 5, 7, 9), tuple)"
      ]
     },
     "execution_count": 40,
     "metadata": {},
     "output_type": "execute_result"
    }
   ],
   "source": [
    "tp = (1,3,5,7,9)\n",
    "tp , type(tp)"
   ]
  },
  {
   "cell_type": "code",
   "execution_count": 43,
   "id": "cf20495a",
   "metadata": {},
   "outputs": [
    {
     "data": {
      "text/plain": [
       "([1, 3, 5, 7, 9], list)"
      ]
     },
     "execution_count": 43,
     "metadata": {},
     "output_type": "execute_result"
    }
   ],
   "source": [
    "lst = [1,3,5,7,9]\n",
    "lst , type(lst)"
   ]
  },
  {
   "cell_type": "code",
   "execution_count": 44,
   "id": "8d888f29",
   "metadata": {},
   "outputs": [
    {
     "data": {
      "text/plain": [
       "[1, 3, 5, 7, 9, 100]"
      ]
     },
     "execution_count": 44,
     "metadata": {},
     "output_type": "execute_result"
    }
   ],
   "source": [
    "lst.append(100)\n",
    "\n",
    "lst"
   ]
  },
  {
   "cell_type": "code",
   "execution_count": 46,
   "id": "f43b7b07",
   "metadata": {},
   "outputs": [
    {
     "data": {
      "text/plain": [
       "(('1112', 'A Phủ', 1900, '11 DBP, Gia Lai', 'Nam'), tuple)"
      ]
     },
     "execution_count": 46,
     "metadata": {},
     "output_type": "execute_result"
    }
   ],
   "source": [
    "tplCongDan = (\"1112\", \"A Phủ\", 1900, \"11 DBP, Gia Lai\", \"Nam\")\n",
    "\n",
    "tplCongDan, type(tplCongDan)"
   ]
  },
  {
   "cell_type": "code",
   "execution_count": 48,
   "id": "01a7b142",
   "metadata": {},
   "outputs": [
    {
     "data": {
      "text/plain": [
       "({'one': 'một', 'two': 'hai', 'three': 'ba'}, dict)"
      ]
     },
     "execution_count": 48,
     "metadata": {},
     "output_type": "execute_result"
    }
   ],
   "source": [
    "# dict - từ điển \n",
    "\n",
    "tudien = { \n",
    "          \"one\": \"một\", \n",
    "          \"two\": \"hai\", \n",
    "          \"three\" : \"ba\"\n",
    "          }\n",
    "\n",
    "tudien, type(tudien)"
   ]
  },
  {
   "cell_type": "code",
   "execution_count": 54,
   "id": "f0efd8f7",
   "metadata": {},
   "outputs": [
    {
     "data": {
      "text/plain": [
       "{'one': 'một', 'two': 'hai', 'three': 'ba', 'four': 'bốn'}"
      ]
     },
     "execution_count": 54,
     "metadata": {},
     "output_type": "execute_result"
    }
   ],
   "source": [
    "tudien[\"four\"] = \"bốn\" \n",
    "\n",
    "tudien "
   ]
  },
  {
   "cell_type": "code",
   "execution_count": 58,
   "id": "dc643a09",
   "metadata": {},
   "outputs": [
    {
     "data": {
      "text/plain": [
       "False"
      ]
     },
     "execution_count": 58,
     "metadata": {},
     "output_type": "execute_result"
    }
   ],
   "source": [
    "\"ten\"  in tudien"
   ]
  }
 ],
 "metadata": {
  "language_info": {
   "name": "python"
  }
 },
 "nbformat": 4,
 "nbformat_minor": 5
}
