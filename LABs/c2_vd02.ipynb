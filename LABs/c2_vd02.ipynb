{
 "cells": [
  {
   "cell_type": "markdown",
   "id": "d56e3064",
   "metadata": {},
   "source": [
    "# chương 2 - phần 4,5"
   ]
  },
  {
   "cell_type": "code",
   "execution_count": 1,
   "id": "38553e8b",
   "metadata": {},
   "outputs": [],
   "source": [
    "import  numpy  as np "
   ]
  },
  {
   "cell_type": "code",
   "execution_count": 2,
   "id": "4fafd9e7",
   "metadata": {},
   "outputs": [
    {
     "data": {
      "text/plain": [
       "(array([[ 1, -4],\n",
       "        [-4,  1]]),\n",
       " array([[ 1, -8],\n",
       "        [-8,  2]]))"
      ]
     },
     "execution_count": 2,
     "metadata": {},
     "output_type": "execute_result"
    }
   ],
   "source": [
    "A = np.array([[1,-4],[-4,1]])\n",
    "B = np.array([[1,-8],[-8,2]])\n",
    "\n",
    "A, B "
   ]
  },
  {
   "cell_type": "code",
   "execution_count": 3,
   "id": "e02eb0fb",
   "metadata": {},
   "outputs": [
    {
     "data": {
      "text/plain": [
       "array([[  2, -12],\n",
       "       [-12,   3]])"
      ]
     },
     "execution_count": 3,
     "metadata": {},
     "output_type": "execute_result"
    }
   ],
   "source": [
    "A+B "
   ]
  },
  {
   "cell_type": "code",
   "execution_count": 5,
   "id": "7acd490e",
   "metadata": {},
   "outputs": [
    {
     "data": {
      "text/plain": [
       "array([[0.5, 0. ],\n",
       "       [0. , 0. ]])"
      ]
     },
     "execution_count": 5,
     "metadata": {},
     "output_type": "execute_result"
    }
   ],
   "source": [
    "A-(1/2)*B"
   ]
  },
  {
   "cell_type": "code",
   "execution_count": 6,
   "id": "8c2e6ba9",
   "metadata": {},
   "outputs": [
    {
     "data": {
      "text/plain": [
       "array([[  5, -20],\n",
       "       [-20,   5]])"
      ]
     },
     "execution_count": 6,
     "metadata": {},
     "output_type": "execute_result"
    }
   ],
   "source": [
    "5*A "
   ]
  },
  {
   "cell_type": "code",
   "execution_count": 7,
   "id": "50e0a721",
   "metadata": {},
   "outputs": [
    {
     "data": {
      "text/plain": [
       "array([[ 1, -4],\n",
       "       [-4,  1]])"
      ]
     },
     "execution_count": 7,
     "metadata": {},
     "output_type": "execute_result"
    }
   ],
   "source": [
    "A.transpose()"
   ]
  },
  {
   "cell_type": "code",
   "execution_count": 9,
   "id": "1c4f5678",
   "metadata": {},
   "outputs": [
    {
     "data": {
      "text/plain": [
       "array([[ 1, 32],\n",
       "       [32,  2]])"
      ]
     },
     "execution_count": 9,
     "metadata": {},
     "output_type": "execute_result"
    }
   ],
   "source": [
    "C = A*B \n",
    "C"
   ]
  },
  {
   "cell_type": "code",
   "execution_count": 10,
   "id": "7011af54",
   "metadata": {},
   "outputs": [
    {
     "data": {
      "text/plain": [
       "array([[1, 2, 3],\n",
       "       [4, 5, 6]])"
      ]
     },
     "execution_count": 10,
     "metadata": {},
     "output_type": "execute_result"
    }
   ],
   "source": [
    "D = np.array([[1,2,3],[4,5,6]])\n",
    "D"
   ]
  },
  {
   "cell_type": "code",
   "execution_count": 11,
   "id": "8a882998",
   "metadata": {},
   "outputs": [
    {
     "data": {
      "text/plain": [
       "array([[1, 4],\n",
       "       [2, 5],\n",
       "       [3, 6]])"
      ]
     },
     "execution_count": 11,
     "metadata": {},
     "output_type": "execute_result"
    }
   ],
   "source": [
    "D.transpose()"
   ]
  },
  {
   "cell_type": "code",
   "execution_count": 12,
   "id": "b2f1dfd6",
   "metadata": {},
   "outputs": [
    {
     "data": {
      "text/plain": [
       "array([[ 33, -16],\n",
       "       [-12,  34]])"
      ]
     },
     "execution_count": 12,
     "metadata": {},
     "output_type": "execute_result"
    }
   ],
   "source": [
    "A.dot(B)"
   ]
  },
  {
   "cell_type": "code",
   "execution_count": 13,
   "id": "6b3a3041",
   "metadata": {},
   "outputs": [
    {
     "data": {
      "text/plain": [
       "(array([[2, 3, 1],\n",
       "        [4, 5, 1]]),\n",
       " array([[-1,  2],\n",
       "        [ 4, -2],\n",
       "        [ 3,  6]]))"
      ]
     },
     "execution_count": 13,
     "metadata": {},
     "output_type": "execute_result"
    }
   ],
   "source": [
    "A02 = np.array([[2,3,1],[4,5,1]])\n",
    "B02 = np.array([[-1,2],[4,-2],[3,6]])\n",
    "\n",
    "A02, B02 "
   ]
  },
  {
   "cell_type": "code",
   "execution_count": 14,
   "id": "d4eebf04",
   "metadata": {},
   "outputs": [
    {
     "data": {
      "text/plain": [
       "array([[13,  4],\n",
       "       [19,  4]])"
      ]
     },
     "execution_count": 14,
     "metadata": {},
     "output_type": "execute_result"
    }
   ],
   "source": [
    "A02.dot(B02)"
   ]
  },
  {
   "cell_type": "code",
   "execution_count": 15,
   "id": "c6be78f0",
   "metadata": {},
   "outputs": [
    {
     "data": {
      "text/plain": [
       "array([[ 6,  7,  1],\n",
       "       [ 0,  2,  2],\n",
       "       [30, 39,  9]])"
      ]
     },
     "execution_count": 15,
     "metadata": {},
     "output_type": "execute_result"
    }
   ],
   "source": [
    "B02.dot(A02)"
   ]
  },
  {
   "cell_type": "code",
   "execution_count": 17,
   "id": "c275aad9",
   "metadata": {},
   "outputs": [
    {
     "data": {
      "text/plain": [
       "(array([[1, 3],\n",
       "        [5, 7]]),\n",
       " array([[ 4, -6],\n",
       "        [-8, 12]]))"
      ]
     },
     "execution_count": 17,
     "metadata": {},
     "output_type": "execute_result"
    }
   ],
   "source": [
    "A03 = np.array([[1,3],[5,7]])\n",
    "B03 = np.array([[4,-6],[-8,12]])\n",
    "\n",
    "A03,B03"
   ]
  },
  {
   "cell_type": "code",
   "execution_count": 18,
   "id": "901314cc",
   "metadata": {},
   "outputs": [
    {
     "data": {
      "text/plain": [
       "(-7.999999999999998, 0.0)"
      ]
     },
     "execution_count": 18,
     "metadata": {},
     "output_type": "execute_result"
    }
   ],
   "source": [
    "np.linalg.det(A03)  ,  np.linalg.det(B03)  "
   ]
  },
  {
   "cell_type": "code",
   "execution_count": 19,
   "id": "c1ea7535",
   "metadata": {},
   "outputs": [
    {
     "data": {
      "text/plain": [
       "array([[-0.875,  0.375],\n",
       "       [ 0.625, -0.125]])"
      ]
     },
     "execution_count": 19,
     "metadata": {},
     "output_type": "execute_result"
    }
   ],
   "source": [
    "ivA03 = np.linalg.inv(A03)\n",
    "ivA03"
   ]
  },
  {
   "cell_type": "code",
   "execution_count": 20,
   "id": "64729993",
   "metadata": {},
   "outputs": [
    {
     "data": {
      "text/plain": [
       "array([[-0.875,  1.125],\n",
       "       [ 3.125, -0.875]])"
      ]
     },
     "execution_count": 20,
     "metadata": {},
     "output_type": "execute_result"
    }
   ],
   "source": [
    "ivA03 * A03 "
   ]
  },
  {
   "cell_type": "code",
   "execution_count": 21,
   "id": "628c1ccf",
   "metadata": {},
   "outputs": [
    {
     "data": {
      "text/plain": [
       "array([[1., 0.],\n",
       "       [0., 1.]])"
      ]
     },
     "execution_count": 21,
     "metadata": {},
     "output_type": "execute_result"
    }
   ],
   "source": [
    "ivA03.dot(A03)"
   ]
  },
  {
   "cell_type": "code",
   "execution_count": 22,
   "id": "106d3511",
   "metadata": {},
   "outputs": [
    {
     "data": {
      "text/plain": [
       "array([[1., 0.],\n",
       "       [0., 1.]])"
      ]
     },
     "execution_count": 22,
     "metadata": {},
     "output_type": "execute_result"
    }
   ],
   "source": [
    "A03.dot(ivA03)"
   ]
  },
  {
   "cell_type": "markdown",
   "id": "580fac35",
   "metadata": {},
   "source": [
    "## củng cố kỹ năng lập trình python"
   ]
  },
  {
   "cell_type": "code",
   "execution_count": 28,
   "id": "c79d74af",
   "metadata": {},
   "outputs": [
    {
     "name": "stdout",
     "output_type": "stream",
     "text": [
      "333 la so le\n"
     ]
    }
   ],
   "source": [
    "# câu lệnh thực thi dựa trên điều kiện khác nhau \n",
    "\n",
    "so = int( input(\"Nhập vào một số nguyên: \") ) \n",
    "\n",
    "if so % 2 == 0:\n",
    "    print(so, \"la so chan\")\n",
    "else:\n",
    "    print(so, \"la so le\")"
   ]
  },
  {
   "cell_type": "code",
   "execution_count": 33,
   "id": "b3690458",
   "metadata": {},
   "outputs": [
    {
     "name": "stdout",
     "output_type": "stream",
     "text": [
      "Bạn vừa đoán là số  50\n",
      " .. số này LỚN hơn số của Computer\n",
      "Bạn vừa đoán là số  30\n",
      " .. số này nhỏ hơn số của Computer\n",
      "Bạn vừa đoán là số  45\n",
      " .. số này LỚN hơn số của Computer\n",
      "Bạn vừa đoán là số  37\n",
      " .. số này nhỏ hơn số của Computer\n",
      "Bạn vừa đoán là số  42\n",
      "Bạn Thắng, đã đoán trúng  42\n"
     ]
    }
   ],
   "source": [
    "## vòng lặp, thực hiện nhóm câu lệnh nhiều lần \n",
    "import  random \n",
    "\n",
    "SoCuaComputer = random.randint(1,99) \n",
    "\n",
    "SoLan = 1\n",
    "while SoLan <= 5:\n",
    "    SoNguoiDoan = int( input(\"Nhập vào số bạn đoán (1..99): \")) \n",
    "    print(\"Bạn vừa đoán là số \", SoNguoiDoan)\n",
    "    if SoNguoiDoan < SoCuaComputer:\n",
    "        print(\" .. số này nhỏ hơn số của Computer\")\n",
    "    elif SoNguoiDoan > SoCuaComputer:\n",
    "        print(\" .. số này LỚN hơn số của Computer\")\n",
    "    else:\n",
    "        break \n",
    "    SoLan += 1 \n",
    "    \n",
    "if SoNguoiDoan == SoCuaComputer:\n",
    "    print(\"Bạn Thắng, đã đoán trúng \", SoNguoiDoan)\n",
    "else:\n",
    "    print(\"Bạn đã thua !!! số của computer là \", SoCuaComputer)"
   ]
  },
  {
   "cell_type": "markdown",
   "id": "3573f6b4",
   "metadata": {},
   "source": [
    "## Bài toán Logic đoán số 4 chữ số ABCD "
   ]
  },
  {
   "cell_type": "code",
   "execution_count": 41,
   "id": "1fef5350",
   "metadata": {},
   "outputs": [
    {
     "name": "stdout",
     "output_type": "stream",
     "text": [
      "[7. 9. 4. 2.]\n",
      "[4. 5. 6. 7.]\n"
     ]
    }
   ],
   "source": [
    "import  random  \n",
    "\n",
    "SoCuaComputer = random.randint(0, 9999)\n",
    "\n",
    "DSChuSo = np.zeros(4)\n",
    "\n",
    "DSChuSo[0] = SoCuaComputer // 1000\n",
    "DSChuSo[1] = (SoCuaComputer % 1000) // 100\n",
    "DSChuSo[2] = (SoCuaComputer % 100) // 10\n",
    "DSChuSo[3] = SoCuaComputer % 10\n",
    "\n",
    "print(DSChuSo)\n",
    "\n",
    "\n",
    "SoNguoiDoan = int( input(\"Nhập vào số bạn đoán (0..9999): \") )\n",
    "\n",
    "DSChuSoNguoiDoan = np.zeros(4)\n",
    "\n",
    "DSChuSoNguoiDoan[0] = SoNguoiDoan // 1000\n",
    "DSChuSoNguoiDoan[1] = (SoNguoiDoan % 1000) // 100\n",
    "DSChuSoNguoiDoan[2] = (SoNguoiDoan % 100) // 10\n",
    "DSChuSoNguoiDoan[3] = SoNguoiDoan % 10\n",
    "\n",
    "print(DSChuSoNguoiDoan)\n",
    "\n"
   ]
  }
 ],
 "metadata": {
  "kernelspec": {
   "display_name": "Python 3",
   "language": "python",
   "name": "python3"
  },
  "language_info": {
   "codemirror_mode": {
    "name": "ipython",
    "version": 3
   },
   "file_extension": ".py",
   "mimetype": "text/x-python",
   "name": "python",
   "nbconvert_exporter": "python",
   "pygments_lexer": "ipython3",
   "version": "3.12.1"
  }
 },
 "nbformat": 4,
 "nbformat_minor": 5
}
