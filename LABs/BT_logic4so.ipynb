{
 "cells": [
  {
   "cell_type": "markdown",
   "id": "2ee93016",
   "metadata": {},
   "source": [
    "## Bài toán logic đoán số có 4 chữ số"
   ]
  },
  {
   "cell_type": "code",
   "execution_count": 1,
   "id": "90ef4cda",
   "metadata": {},
   "outputs": [],
   "source": [
    "import  random\n",
    "import  numpy as np "
   ]
  },
  {
   "cell_type": "code",
   "execution_count": 7,
   "id": "c4a775e9",
   "metadata": {},
   "outputs": [],
   "source": [
    "def  phanTichSo(xNumber):\n",
    "    DSChuSo = np.zeros(4)\n",
    "    DSChuSo[0] = (xNumber // 1000) % 10\n",
    "    DSChuSo[1] = (xNumber % 1000) // 100\n",
    "    DSChuSo[2] = (xNumber % 100) // 10\n",
    "    DSChuSo[3] = xNumber % 10\n",
    "    return DSChuSo\n",
    "\n",
    "def  demSoViTriDungGiaTri(dsA, dsB):\n",
    "    dem = 0\n",
    "    for i in range(4):\n",
    "        if dsA[i] == dsB[i]:\n",
    "            dem += 1\n",
    "    return dem"
   ]
  },
  {
   "cell_type": "code",
   "execution_count": 3,
   "id": "bedb848f",
   "metadata": {},
   "outputs": [
    {
     "data": {
      "text/plain": [
       "array([3., 1., 2., 5.])"
      ]
     },
     "execution_count": 3,
     "metadata": {},
     "output_type": "execute_result"
    }
   ],
   "source": [
    "phanTichSo(3125)"
   ]
  },
  {
   "cell_type": "code",
   "execution_count": 9,
   "id": "d6781a7d",
   "metadata": {},
   "outputs": [
    {
     "name": "stdout",
     "output_type": "stream",
     "text": [
      "[9. 8. 8. 2.]\n",
      "1 [9. 9. 9. 9.]\n",
      "\t So So dung vi tri:  1\n",
      "2 [2. 2. 2. 2.]\n",
      "\t So So dung vi tri:  1\n",
      "3 [8. 8. 8. 8.]\n",
      "\t So So dung vi tri:  2\n",
      "4 [9. 8. 1. 1.]\n",
      "\t So So dung vi tri:  2\n",
      "5 [9. 1. 1. 2.]\n",
      "\t So So dung vi tri:  2\n",
      "6 [9. 8. 2. 2.]\n",
      "\t So So dung vi tri:  3\n",
      "7 [9. 8. 8. 2.]\n",
      "\t So So dung vi tri:  4\n"
     ]
    }
   ],
   "source": [
    "SoCuaComputer = np.random.randint(0, 9999)\n",
    "# random.randint(0, 9999)\n",
    "DSChuSoComputer = phanTichSo(SoCuaComputer)\n",
    "print(DSChuSoComputer)\n",
    "\n",
    "sl = 0\n",
    "while sl < 7:\n",
    "    sl += 1 \n",
    "    SoNguoiDoan = int( input(\"Nhập vào số bạn đoán (0..9999): \" + str(sl)) )\n",
    "    DSChuSoNguoiDoan = phanTichSo(SoNguoiDoan)\n",
    "    print(sl, DSChuSoNguoiDoan)\n",
    "    print(\"\\t So So dung vi tri: \", demSoViTriDungGiaTri(DSChuSoComputer, DSChuSoNguoiDoan) )\n"
   ]
  }
 ],
 "metadata": {
  "kernelspec": {
   "display_name": "Python 3",
   "language": "python",
   "name": "python3"
  },
  "language_info": {
   "codemirror_mode": {
    "name": "ipython",
    "version": 3
   },
   "file_extension": ".py",
   "mimetype": "text/x-python",
   "name": "python",
   "nbconvert_exporter": "python",
   "pygments_lexer": "ipython3",
   "version": "3.12.1"
  }
 },
 "nbformat": 4,
 "nbformat_minor": 5
}
