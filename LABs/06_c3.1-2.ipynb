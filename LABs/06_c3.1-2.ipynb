{
 "cells": [
  {
   "cell_type": "markdown",
   "id": "3e10b71c",
   "metadata": {},
   "source": [
    "## Bài tập --> 7:00  \n",
    "\n",
    "Tìm và tra bảng lứa tuổi ra độ tuổi:\n",
    "\n",
    "\"thiếu nhi\" --> (4,15)  \n",
    "\"nhi đồng\" --> (4-9)  \n",
    "\"thiếu niên\" --> (10-15)  \n",
    "\n",
    "thanh thiếu niên  \n",
    "thanh niên  \n",
    "trung niên  \n",
    "\"lão\"  \n",
    "\n",
    "--> Tạo từ điển dict cho bảng tra này "
   ]
  },
  {
   "cell_type": "code",
   "execution_count": 2,
   "id": "b768ec2d",
   "metadata": {},
   "outputs": [
    {
     "data": {
      "text/plain": [
       "{'thiếu nhi': (4, 15),\n",
       " 'nhi đồng': (4, 9),\n",
       " 'thiếu niên': (10, 15),\n",
       " 'thanh niên': (16, 30),\n",
       " 'thành niên': (31, 44),\n",
       " 'trung niên': (45, 60),\n",
       " 'cao niên': (61, 100)}"
      ]
     },
     "execution_count": 2,
     "metadata": {},
     "output_type": "execute_result"
    }
   ],
   "source": [
    "dotuoi = {\n",
    "    \"thiếu nhi\" : (4, 15) ,\n",
    "    \"nhi đồng\" : (4, 9) , \n",
    "    \"thiếu niên\" : (10, 15) ,\n",
    "    \"thanh niên\" : (16, 30) ,\n",
    "    \"thành niên\" : (31, 44) , # trưởng thành\n",
    "    \"trung niên\" : (45, 60) ,\n",
    "    \"cao niên\" : (61,100)\n",
    "}\n",
    "\n",
    "dotuoi "
   ]
  },
  {
   "cell_type": "code",
   "execution_count": 3,
   "id": "de54f6c4",
   "metadata": {},
   "outputs": [
    {
     "data": {
      "text/plain": [
       "{0, 2, 4, 6, 8, 10}"
      ]
     },
     "execution_count": 3,
     "metadata": {},
     "output_type": "execute_result"
    }
   ],
   "source": [
    "# Tập hợp \n",
    "\n",
    "taphopsochan = {0,2,4,6,8,10,2,2,2,6,6,6}\n",
    "\n",
    "taphopsochan"
   ]
  },
  {
   "cell_type": "code",
   "execution_count": 4,
   "id": "3116d766",
   "metadata": {},
   "outputs": [
    {
     "data": {
      "text/plain": [
       "{1, 3, 5, 7, 9}"
      ]
     },
     "execution_count": 4,
     "metadata": {},
     "output_type": "execute_result"
    }
   ],
   "source": [
    "thsole = {1,3,5,5,5,7,7,9,9}\n",
    "\n",
    "thsole"
   ]
  },
  {
   "cell_type": "code",
   "execution_count": 8,
   "id": "1564fa07",
   "metadata": {},
   "outputs": [
    {
     "data": {
      "text/plain": [
       "{0, 2, 4, 6, 8, 10}"
      ]
     },
     "execution_count": 8,
     "metadata": {},
     "output_type": "execute_result"
    }
   ],
   "source": [
    "taphopsochan - thsole"
   ]
  },
  {
   "cell_type": "code",
   "execution_count": 9,
   "id": "5ab1c9c0",
   "metadata": {},
   "outputs": [
    {
     "data": {
      "text/plain": [
       "{0, 1, 2, 3, 4, 5, 6, 7, 8, 9, 10}"
      ]
     },
     "execution_count": 9,
     "metadata": {},
     "output_type": "execute_result"
    }
   ],
   "source": [
    "taphopsochan.union(thsole)"
   ]
  },
  {
   "cell_type": "code",
   "execution_count": 10,
   "id": "317e0e6c",
   "metadata": {},
   "outputs": [
    {
     "data": {
      "text/plain": [
       "set()"
      ]
     },
     "execution_count": 10,
     "metadata": {},
     "output_type": "execute_result"
    }
   ],
   "source": [
    "taphopsochan.intersection(thsole)"
   ]
  },
  {
   "cell_type": "code",
   "execution_count": 11,
   "id": "16da9ebf",
   "metadata": {},
   "outputs": [
    {
     "data": {
      "text/plain": [
       "{0, 2, 4, 6, 8, 10}"
      ]
     },
     "execution_count": 11,
     "metadata": {},
     "output_type": "execute_result"
    }
   ],
   "source": [
    "taphopsochan.difference(thsole)"
   ]
  },
  {
   "cell_type": "code",
   "execution_count": 12,
   "id": "832fd47e",
   "metadata": {},
   "outputs": [
    {
     "data": {
      "text/plain": [
       "{0, 1, 2, 3, 4, 5, 6, 7, 8, 9, 10}"
      ]
     },
     "execution_count": 12,
     "metadata": {},
     "output_type": "execute_result"
    }
   ],
   "source": [
    "taphopsochan ^ thsole"
   ]
  },
  {
   "cell_type": "code",
   "execution_count": 13,
   "id": "1f1add08",
   "metadata": {},
   "outputs": [],
   "source": [
    "import  numpy as np "
   ]
  },
  {
   "cell_type": "code",
   "execution_count": 14,
   "id": "37d026f5",
   "metadata": {},
   "outputs": [
    {
     "name": "stdout",
     "output_type": "stream",
     "text": [
      "1 range(0, 10) <class 'range'>\n",
      "2 [0, 1, 2, 3, 4, 5, 6, 7, 8, 9] <class 'list'>\n",
      "3 [0 1 2 3 4 5 6 7 8 9] <class 'numpy.ndarray'>\n"
     ]
    }
   ],
   "source": [
    "## Range \n",
    "\n",
    "r = range(10)\n",
    "print(1, r, type(r))\n",
    "\n",
    "r = list(range(10))\n",
    "print(2, r, type(r))\n",
    "\n",
    "r = np.arange(10)\n",
    "print(3, r, type(r))"
   ]
  },
  {
   "cell_type": "code",
   "execution_count": 15,
   "id": "3aaea4ba",
   "metadata": {},
   "outputs": [
    {
     "data": {
      "text/plain": [
       "(array([1, 2, 3, 4, 5, 6, 7, 8, 9]), array([1, 3, 5, 7, 9]))"
      ]
     },
     "execution_count": 15,
     "metadata": {},
     "output_type": "execute_result"
    }
   ],
   "source": [
    "r1 = np.arange(1, 10)\n",
    "r2 = np.arange(1, 10, 2)\n",
    "\n",
    "r1 , r2"
   ]
  },
  {
   "cell_type": "code",
   "execution_count": 16,
   "id": "de93a0e3",
   "metadata": {},
   "outputs": [
    {
     "data": {
      "text/plain": [
       "(9, 9, (9,))"
      ]
     },
     "execution_count": 16,
     "metadata": {},
     "output_type": "execute_result"
    }
   ],
   "source": [
    "len(r1) , r1.size , r1.shape  "
   ]
  },
  {
   "cell_type": "code",
   "execution_count": 18,
   "id": "f5837593",
   "metadata": {},
   "outputs": [],
   "source": [
    "r4 = np.array([11, 5.6 , True, False])"
   ]
  },
  {
   "cell_type": "code",
   "execution_count": 19,
   "id": "442443fb",
   "metadata": {},
   "outputs": [
    {
     "data": {
      "text/plain": [
       "(numpy.ndarray, numpy.float64)"
      ]
     },
     "execution_count": 19,
     "metadata": {},
     "output_type": "execute_result"
    }
   ],
   "source": [
    "type(r4) , type(r4[3])"
   ]
  },
  {
   "cell_type": "code",
   "execution_count": 20,
   "id": "38591754",
   "metadata": {},
   "outputs": [
    {
     "data": {
      "text/plain": [
       "(array(['11', '5.6', 'True', 'False', 'mrTu'], dtype='<U32'),\n",
       " numpy.ndarray,\n",
       " numpy.str_)"
      ]
     },
     "execution_count": 20,
     "metadata": {},
     "output_type": "execute_result"
    }
   ],
   "source": [
    "r5 = np.array([11, 5.6 , True, False, \"mrTu\"])\n",
    "\n",
    "r5 , type(r5), type(r5[2])"
   ]
  },
  {
   "cell_type": "code",
   "execution_count": 22,
   "id": "536e148b",
   "metadata": {},
   "outputs": [
    {
     "name": "stdout",
     "output_type": "stream",
     "text": [
      "1 [ 0.   2.5  5.   7.5 10. ]\n",
      "2 [ 0.  2.  4.  6.  8. 10.]\n"
     ]
    }
   ],
   "source": [
    "## linspace \n",
    "\n",
    "l1 = np.linspace(0, 10, 5)\n",
    "print(1, l1)\n",
    "\n",
    "l2 = np.linspace(0, 10, 6)\n",
    "print(2,l2)\n",
    "\n"
   ]
  },
  {
   "cell_type": "code",
   "execution_count": 24,
   "id": "4d15fab0",
   "metadata": {},
   "outputs": [
    {
     "data": {
      "text/plain": [
       "array([[0., 0.],\n",
       "       [0., 0.],\n",
       "       [0., 0.]])"
      ]
     },
     "execution_count": 24,
     "metadata": {},
     "output_type": "execute_result"
    }
   ],
   "source": [
    "np.zeros((3,2))"
   ]
  },
  {
   "cell_type": "code",
   "execution_count": 29,
   "id": "6e73970c",
   "metadata": {},
   "outputs": [
    {
     "data": {
      "text/plain": [
       "array([[[1., 1.],\n",
       "        [1., 1.],\n",
       "        [1., 1.]],\n",
       "\n",
       "       [[1., 1.],\n",
       "        [1., 1.],\n",
       "        [1., 1.]]])"
      ]
     },
     "execution_count": 29,
     "metadata": {},
     "output_type": "execute_result"
    }
   ],
   "source": [
    "m2 = np.ones((2,3,2))\n",
    "m2 "
   ]
  },
  {
   "cell_type": "code",
   "execution_count": 31,
   "id": "69e59812",
   "metadata": {},
   "outputs": [
    {
     "data": {
      "text/plain": [
       "(3, (2, 3, 2))"
      ]
     },
     "execution_count": 31,
     "metadata": {},
     "output_type": "execute_result"
    }
   ],
   "source": [
    "m2.ndim , m2.shape "
   ]
  },
  {
   "cell_type": "code",
   "execution_count": 32,
   "id": "e085a9ce",
   "metadata": {},
   "outputs": [
    {
     "data": {
      "text/plain": [
       "(3,\n",
       " (2, 3, 2),\n",
       " array([[[ 1.,  2.],\n",
       "         [ 3.,  4.],\n",
       "         [ 5.,  6.]],\n",
       " \n",
       "        [[ 7.,  8.],\n",
       "         [ 9., 10.],\n",
       "         [11., 12.]]]))"
      ]
     },
     "execution_count": 32,
     "metadata": {},
     "output_type": "execute_result"
    }
   ],
   "source": [
    "m3 = np.array([[[1., 2.],\n",
    "        [3., 4.],\n",
    "        [5., 6.]],\n",
    "\n",
    "       [[7., 8.],\n",
    "        [9., 10.],\n",
    "        [11., 12.]]])\n",
    "m3.ndim,  m3.shape, m3"
   ]
  },
  {
   "cell_type": "code",
   "execution_count": 33,
   "id": "989b0b86",
   "metadata": {},
   "outputs": [
    {
     "data": {
      "text/plain": [
       "array([ 1.,  2.,  3.,  4.,  5.,  6.,  7.,  8.,  9., 10., 11., 12.])"
      ]
     },
     "execution_count": 33,
     "metadata": {},
     "output_type": "execute_result"
    }
   ],
   "source": [
    "m3.reshape(12)"
   ]
  },
  {
   "cell_type": "code",
   "execution_count": 35,
   "id": "4520d8aa",
   "metadata": {},
   "outputs": [
    {
     "data": {
      "text/plain": [
       "array([[ 1.,  2.,  3.],\n",
       "       [ 4.,  5.,  6.],\n",
       "       [ 7.,  8.,  9.],\n",
       "       [10., 11., 12.]])"
      ]
     },
     "execution_count": 35,
     "metadata": {},
     "output_type": "execute_result"
    }
   ],
   "source": [
    "m3.reshape(4,3)"
   ]
  },
  {
   "cell_type": "code",
   "execution_count": 45,
   "id": "fc356aa2",
   "metadata": {},
   "outputs": [],
   "source": [
    "## Random \n",
    "snn = np.random.randn(30,30)"
   ]
  },
  {
   "cell_type": "code",
   "execution_count": 46,
   "id": "43a590dd",
   "metadata": {},
   "outputs": [
    {
     "data": {
      "text/plain": [
       "0.005371407830836784"
      ]
     },
     "execution_count": 46,
     "metadata": {},
     "output_type": "execute_result"
    }
   ],
   "source": [
    "snn.mean()"
   ]
  },
  {
   "cell_type": "code",
   "execution_count": 49,
   "id": "e151d86b",
   "metadata": {},
   "outputs": [],
   "source": [
    "ppd = np.random.rand(100)"
   ]
  },
  {
   "cell_type": "code",
   "execution_count": 50,
   "id": "dd45321a",
   "metadata": {},
   "outputs": [
    {
     "data": {
      "text/plain": [
       "0.47667486502062817"
      ]
     },
     "execution_count": 50,
     "metadata": {},
     "output_type": "execute_result"
    }
   ],
   "source": [
    "ppd.mean()"
   ]
  },
  {
   "cell_type": "markdown",
   "id": "996b47d4",
   "metadata": {},
   "source": [
    "## 1. nêu các ý tưởng về đề tài sẽ làm cuối khóa \n",
    "--> 9:00 ()\n",
    "\n",
    "## 2. làm tiếp logic của 4 số, ..\n",
    "--> 9:00 --> hướng dẫn "
   ]
  },
  {
   "cell_type": "code",
   "execution_count": null,
   "id": "d2a2e762",
   "metadata": {},
   "outputs": [],
   "source": []
  }
 ],
 "metadata": {
  "kernelspec": {
   "display_name": "Python 3",
   "language": "python",
   "name": "python3"
  },
  "language_info": {
   "codemirror_mode": {
    "name": "ipython",
    "version": 3
   },
   "file_extension": ".py",
   "mimetype": "text/x-python",
   "name": "python",
   "nbconvert_exporter": "python",
   "pygments_lexer": "ipython3",
   "version": "3.12.1"
  }
 },
 "nbformat": 4,
 "nbformat_minor": 5
}
