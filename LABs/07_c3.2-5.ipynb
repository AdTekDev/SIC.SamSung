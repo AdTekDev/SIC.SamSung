{
 "cells": [
  {
   "cell_type": "markdown",
   "id": "418f0063",
   "metadata": {},
   "source": [
    "# S07 - Chapter 3 - u2-5"
   ]
  },
  {
   "cell_type": "code",
   "execution_count": 1,
   "id": "c2029203",
   "metadata": {},
   "outputs": [],
   "source": [
    "import  numpy  as np \n",
    "import  math "
   ]
  },
  {
   "cell_type": "code",
   "execution_count": 3,
   "id": "0b09eeaa",
   "metadata": {},
   "outputs": [
    {
     "name": "stdout",
     "output_type": "stream",
     "text": [
      "CPU times: total: 3.09 s\n",
      "Wall time: 3.26 s\n"
     ]
    }
   ],
   "source": [
    "%time  for i in range(1000) :  np.arange(1000000)*2 "
   ]
  },
  {
   "cell_type": "code",
   "execution_count": 4,
   "id": "25456f10",
   "metadata": {},
   "outputs": [
    {
     "name": "stdout",
     "output_type": "stream",
     "text": [
      "CPU times: total: 49.8 s\n",
      "Wall time: 51 s\n"
     ]
    }
   ],
   "source": [
    "%time  for i in range(1000) :  list(range(1000000))*2"
   ]
  },
  {
   "cell_type": "code",
   "execution_count": 8,
   "id": "b7f123c4",
   "metadata": {},
   "outputs": [
    {
     "name": "stdout",
     "output_type": "stream",
     "text": [
      "1 [0. 0. 0. 0. 0.]\n",
      "2 [0. 0. 0. 0. 0. 1.]\n",
      "3 [0. 0. 0. 0. 0. 1. 2. 3. 4.]\n"
     ]
    }
   ],
   "source": [
    "ds = np.zeros(5)\n",
    "print(1, ds)\n",
    "\n",
    "ds = np.append(ds, 1)\n",
    "print(2, ds)\n",
    "\n",
    "ds = np.append(ds, [2,3,4])\n",
    "print(3, ds)"
   ]
  },
  {
   "cell_type": "code",
   "execution_count": 11,
   "id": "54d59f1c",
   "metadata": {},
   "outputs": [
    {
     "name": "stdout",
     "output_type": "stream",
     "text": [
      "1 [[1 2]\n",
      " [3 4]]\n",
      "2 [[1 2 5]\n",
      " [3 4 6]]\n"
     ]
    }
   ],
   "source": [
    "# matrix \n",
    "m1 = np.array( [[1,2], [3,4]] )\n",
    "print(1, m1)\n",
    "\n",
    "m1 = np.append(m1, [[5],[6]], axis=1)\n",
    "print(2, m1)\n"
   ]
  },
  {
   "cell_type": "code",
   "execution_count": 15,
   "id": "f739bfe5",
   "metadata": {},
   "outputs": [
    {
     "data": {
      "text/plain": [
       "array([[1, 2],\n",
       "       [3, 4]])"
      ]
     },
     "execution_count": 15,
     "metadata": {},
     "output_type": "execute_result"
    }
   ],
   "source": [
    "np.delete(m1, 2, axis=1)"
   ]
  },
  {
   "cell_type": "code",
   "execution_count": 16,
   "id": "dc571c5d",
   "metadata": {},
   "outputs": [
    {
     "name": "stdout",
     "output_type": "stream",
     "text": [
      "[[1 2 5]\n",
      " [3 4 6]]\n",
      "[[ 6  7 10]\n",
      " [ 8  9 11]]\n"
     ]
    }
   ],
   "source": [
    "print(m1)\n",
    "print(m1+5)"
   ]
  },
  {
   "cell_type": "code",
   "execution_count": 17,
   "id": "7295982d",
   "metadata": {},
   "outputs": [
    {
     "data": {
      "text/plain": [
       "array([1, 1, 1, 2, 2, 2, 3, 3, 3])"
      ]
     },
     "execution_count": 17,
     "metadata": {},
     "output_type": "execute_result"
    }
   ],
   "source": [
    "a = np.array([1,2,3])\n",
    "np.repeat(a, 3)"
   ]
  },
  {
   "cell_type": "code",
   "execution_count": 18,
   "id": "03891001",
   "metadata": {},
   "outputs": [
    {
     "data": {
      "text/plain": [
       "array([1, 2, 3, 1, 2, 3, 1, 2, 3])"
      ]
     },
     "execution_count": 18,
     "metadata": {},
     "output_type": "execute_result"
    }
   ],
   "source": [
    "np.tile(a, 3)"
   ]
  },
  {
   "cell_type": "code",
   "execution_count": 20,
   "id": "68232926",
   "metadata": {},
   "outputs": [
    {
     "data": {
      "text/plain": [
       "array([[False, False, False],\n",
       "       [False, False,  True]])"
      ]
     },
     "execution_count": 20,
     "metadata": {},
     "output_type": "execute_result"
    }
   ],
   "source": [
    "m1 > 5 "
   ]
  },
  {
   "cell_type": "code",
   "execution_count": 26,
   "id": "42a387e0",
   "metadata": {},
   "outputs": [
    {
     "data": {
      "text/plain": [
       "0"
      ]
     },
     "execution_count": 26,
     "metadata": {},
     "output_type": "execute_result"
    }
   ],
   "source": [
    "m1.argmin()"
   ]
  },
  {
   "cell_type": "code",
   "execution_count": 27,
   "id": "f334cf1a",
   "metadata": {},
   "outputs": [
    {
     "data": {
      "text/plain": [
       "1.707825127659933"
      ]
     },
     "execution_count": 27,
     "metadata": {},
     "output_type": "execute_result"
    }
   ],
   "source": [
    "m1.std()"
   ]
  },
  {
   "cell_type": "code",
   "execution_count": 29,
   "id": "46d3901a",
   "metadata": {},
   "outputs": [
    {
     "data": {
      "text/plain": [
       "(2.9166666666666665, 1.707825127659933)"
      ]
     },
     "execution_count": 29,
     "metadata": {},
     "output_type": "execute_result"
    }
   ],
   "source": [
    "m1.var() , np.sqrt(m1.var())"
   ]
  },
  {
   "cell_type": "code",
   "execution_count": 31,
   "id": "06557bfd",
   "metadata": {},
   "outputs": [
    {
     "data": {
      "text/plain": [
       "5.5"
      ]
     },
     "execution_count": 31,
     "metadata": {},
     "output_type": "execute_result"
    }
   ],
   "source": [
    "b = np.array([[1,2,3,4,5 ,6,7,8,9,10]])\n",
    "np.median(b)"
   ]
  },
  {
   "cell_type": "code",
   "execution_count": 33,
   "id": "802672ed",
   "metadata": {},
   "outputs": [
    {
     "data": {
      "text/plain": [
       "array([ 2,  2,  6,  3,  2,  9,  7,  9,  4,  5,  6, 10,  7,  1, 10,  7,  2,\n",
       "        7,  5,  3])"
      ]
     },
     "execution_count": 33,
     "metadata": {},
     "output_type": "execute_result"
    }
   ],
   "source": [
    "c = np.random.randint(1,11,size=20)\n",
    "c"
   ]
  },
  {
   "cell_type": "code",
   "execution_count": 36,
   "id": "b8c0fc99",
   "metadata": {},
   "outputs": [
    {
     "data": {
      "text/plain": [
       "array([ 1,  2,  2,  2,  2,  3,  3,  4,  5,  5,  6,  6,  7,  7,  7,  7,  9,\n",
       "        9, 10, 10])"
      ]
     },
     "execution_count": 36,
     "metadata": {},
     "output_type": "execute_result"
    }
   ],
   "source": [
    "c.sort()\n",
    "c"
   ]
  },
  {
   "cell_type": "code",
   "execution_count": 37,
   "id": "e04ee452",
   "metadata": {},
   "outputs": [
    {
     "data": {
      "text/plain": [
       "array([ 1,  2,  3,  4,  5,  6,  7,  9, 10])"
      ]
     },
     "execution_count": 37,
     "metadata": {},
     "output_type": "execute_result"
    }
   ],
   "source": [
    "np.unique(c)"
   ]
  },
  {
   "cell_type": "code",
   "execution_count": 38,
   "id": "f9745a4e",
   "metadata": {},
   "outputs": [
    {
     "data": {
      "text/plain": [
       "5.5"
      ]
     },
     "execution_count": 38,
     "metadata": {},
     "output_type": "execute_result"
    }
   ],
   "source": [
    "np.median(c)"
   ]
  },
  {
   "cell_type": "code",
   "execution_count": 39,
   "id": "1ee56a37",
   "metadata": {},
   "outputs": [
    {
     "data": {
      "text/plain": [
       "array([ 1,  2,  2,  2,  2,  3,  3,  4,  5,  5,  6,  6,  7,  7,  7,  7,  9,\n",
       "        9, 10, 10])"
      ]
     },
     "execution_count": 39,
     "metadata": {},
     "output_type": "execute_result"
    }
   ],
   "source": [
    "c"
   ]
  },
  {
   "cell_type": "code",
   "execution_count": 46,
   "id": "5da0728d",
   "metadata": {},
   "outputs": [
    {
     "data": {
      "text/plain": [
       "array([ 1,  2,  2,  2,  2,  3,  3,  4,  5,  5,  6,  6,  7,  7,  7,  7,  9,\n",
       "        9, 20, 10])"
      ]
     },
     "execution_count": 46,
     "metadata": {},
     "output_type": "execute_result"
    }
   ],
   "source": [
    "c[-2] = 20\n",
    "c"
   ]
  },
  {
   "cell_type": "code",
   "execution_count": 49,
   "id": "0a3682f6",
   "metadata": {},
   "outputs": [
    {
     "data": {
      "text/plain": [
       "array([4, 5, 5])"
      ]
     },
     "execution_count": 49,
     "metadata": {},
     "output_type": "execute_result"
    }
   ],
   "source": [
    "c[7:10]"
   ]
  },
  {
   "cell_type": "code",
   "execution_count": 50,
   "id": "fe634c3a",
   "metadata": {},
   "outputs": [
    {
     "data": {
      "text/plain": [
       "array([ 4,  5,  5,  6,  6,  7,  7,  7,  7,  9,  9, 20, 10])"
      ]
     },
     "execution_count": 50,
     "metadata": {},
     "output_type": "execute_result"
    }
   ],
   "source": [
    "c[7:]"
   ]
  },
  {
   "cell_type": "code",
   "execution_count": 51,
   "id": "7459f54e",
   "metadata": {},
   "outputs": [
    {
     "data": {
      "text/plain": [
       "array([1, 2, 2, 2, 2, 3, 3])"
      ]
     },
     "execution_count": 51,
     "metadata": {},
     "output_type": "execute_result"
    }
   ],
   "source": [
    "c[:7]"
   ]
  },
  {
   "cell_type": "code",
   "execution_count": 52,
   "id": "4f1e7b88",
   "metadata": {},
   "outputs": [
    {
     "data": {
      "text/plain": [
       "array([1, 3, 3, 5, 5, 7, 7, 7, 7, 9, 9])"
      ]
     },
     "execution_count": 52,
     "metadata": {},
     "output_type": "execute_result"
    }
   ],
   "source": [
    "c[ c % 2 == 1 ]"
   ]
  },
  {
   "cell_type": "code",
   "execution_count": 53,
   "id": "64a43401",
   "metadata": {},
   "outputs": [
    {
     "data": {
      "text/plain": [
       "array([20, 10])"
      ]
     },
     "execution_count": 53,
     "metadata": {},
     "output_type": "execute_result"
    }
   ],
   "source": [
    "c[ c > 9 ]"
   ]
  },
  {
   "cell_type": "markdown",
   "id": "3e3156b0",
   "metadata": {},
   "source": [
    "! pip  install  pandas  matplotlib  deaborn  pillow "
   ]
  },
  {
   "cell_type": "code",
   "execution_count": 55,
   "id": "216f9138",
   "metadata": {},
   "outputs": [
    {
     "name": "stdout",
     "output_type": "stream",
     "text": [
      "Requirement already satisfied: pandas in f:\\allsoftwares\\python\\python312\\lib\\site-packages (2.2.1)\n",
      "Requirement already satisfied: matplotlib in f:\\allsoftwares\\python\\python312\\lib\\site-packages (3.8.2)\n",
      "Requirement already satisfied: seaborn in f:\\allsoftwares\\python\\python312\\lib\\site-packages (0.13.2)\n",
      "Requirement already satisfied: pillow in f:\\allsoftwares\\python\\python312\\lib\\site-packages (10.1.0)\n",
      "Requirement already satisfied: numpy<2,>=1.26.0 in f:\\allsoftwares\\python\\python312\\lib\\site-packages (from pandas) (1.26.2)\n",
      "Requirement already satisfied: python-dateutil>=2.8.2 in c:\\users\\tunn7\\appdata\\roaming\\python\\python312\\site-packages (from pandas) (2.9.0.post0)\n",
      "Requirement already satisfied: pytz>=2020.1 in f:\\allsoftwares\\python\\python312\\lib\\site-packages (from pandas) (2024.1)\n",
      "Requirement already satisfied: tzdata>=2022.7 in f:\\allsoftwares\\python\\python312\\lib\\site-packages (from pandas) (2024.1)\n",
      "Requirement already satisfied: contourpy>=1.0.1 in f:\\allsoftwares\\python\\python312\\lib\\site-packages (from matplotlib) (1.2.0)\n",
      "Requirement already satisfied: cycler>=0.10 in f:\\allsoftwares\\python\\python312\\lib\\site-packages (from matplotlib) (0.12.1)\n",
      "Requirement already satisfied: fonttools>=4.22.0 in f:\\allsoftwares\\python\\python312\\lib\\site-packages (from matplotlib) (4.46.0)\n",
      "Requirement already satisfied: kiwisolver>=1.3.1 in f:\\allsoftwares\\python\\python312\\lib\\site-packages (from matplotlib) (1.4.5)\n",
      "Requirement already satisfied: packaging>=20.0 in c:\\users\\tunn7\\appdata\\roaming\\python\\python312\\site-packages (from matplotlib) (24.2)\n",
      "Requirement already satisfied: pyparsing>=2.3.1 in f:\\allsoftwares\\python\\python312\\lib\\site-packages (from matplotlib) (3.1.1)\n",
      "Requirement already satisfied: six>=1.5 in c:\\users\\tunn7\\appdata\\roaming\\python\\python312\\site-packages (from python-dateutil>=2.8.2->pandas) (1.17.0)\n"
     ]
    },
    {
     "name": "stderr",
     "output_type": "stream",
     "text": [
      "\n",
      "[notice] A new release of pip is available: 24.3.1 -> 25.1.1\n",
      "[notice] To update, run: python.exe -m pip install --upgrade pip\n"
     ]
    }
   ],
   "source": [
    "! pip  install  pandas  matplotlib  seaborn  pillow "
   ]
  },
  {
   "cell_type": "markdown",
   "id": "54e7c57b",
   "metadata": {},
   "source": [
    "## Pandas ..."
   ]
  },
  {
   "cell_type": "code",
   "execution_count": 56,
   "id": "26d05694",
   "metadata": {},
   "outputs": [],
   "source": [
    "import  pandas  as pd \n",
    "import  matplotlib.pyplot  as plt \n",
    "import  numpy  as np \n",
    "import  seaborn  as sns"
   ]
  },
  {
   "cell_type": "code",
   "execution_count": 57,
   "id": "c410725e",
   "metadata": {},
   "outputs": [
    {
     "data": {
      "text/plain": [
       "(0      Male\n",
       " 1    Female\n",
       " 2      Male\n",
       " dtype: object,\n",
       " pandas.core.series.Series)"
      ]
     },
     "execution_count": 57,
     "metadata": {},
     "output_type": "execute_result"
    }
   ],
   "source": [
    "colSex = pd.Series([\"Male\", \"Female\", \"Male\"]) \n",
    "\n",
    "colSex, type(colSex)"
   ]
  },
  {
   "cell_type": "code",
   "execution_count": 58,
   "id": "c6ba26ef",
   "metadata": {},
   "outputs": [
    {
     "data": {
      "application/vnd.microsoft.datawrangler.viewer.v0+json": {
       "columns": [
        {
         "name": "index",
         "rawType": "object",
         "type": "string"
        },
        {
         "name": "0",
         "rawType": "int64",
         "type": "integer"
        }
       ],
       "ref": "2bffc1d5-0b95-40a5-b269-5fe01e1246e3",
       "rows": [
        [
         "a",
         "1"
        ],
        [
         "b",
         "2"
        ],
        [
         "c",
         "3"
        ]
       ],
       "shape": {
        "columns": 1,
        "rows": 3
       }
      },
      "text/plain": [
       "a    1\n",
       "b    2\n",
       "c    3\n",
       "dtype: int64"
      ]
     },
     "execution_count": 58,
     "metadata": {},
     "output_type": "execute_result"
    }
   ],
   "source": [
    "pddl = pd.Series({\"a\":1, \"b\":2, \"c\":3})\n",
    "pddl"
   ]
  },
  {
   "cell_type": "code",
   "execution_count": 59,
   "id": "5c5f48af",
   "metadata": {},
   "outputs": [
    {
     "data": {
      "text/plain": [
       "RangeIndex(start=0, stop=3, step=1)"
      ]
     },
     "execution_count": 59,
     "metadata": {},
     "output_type": "execute_result"
    }
   ],
   "source": [
    "colSex.index "
   ]
  },
  {
   "cell_type": "code",
   "execution_count": 60,
   "id": "b70c9ea5",
   "metadata": {},
   "outputs": [
    {
     "data": {
      "text/plain": [
       "Index(['a', 'b', 'c'], dtype='object')"
      ]
     },
     "execution_count": 60,
     "metadata": {},
     "output_type": "execute_result"
    }
   ],
   "source": [
    "pddl.index "
   ]
  },
  {
   "cell_type": "code",
   "execution_count": 61,
   "id": "f77d4b86",
   "metadata": {},
   "outputs": [],
   "source": [
    "dscanhan = pd.DataFrame(\n",
    "    {\"Name\":[\"Nguyen Van A\", \"Nguyen Van B\", \"Nguyen Van C\"],   \n",
    "                         \"Age\":[20, 21, 22],\n",
    "                         \"Sex\": [\"Male\", \"Female\", \"Male\"]})\n",
    "\n"
   ]
  },
  {
   "cell_type": "code",
   "execution_count": 62,
   "id": "75beee25",
   "metadata": {},
   "outputs": [
    {
     "data": {
      "application/vnd.microsoft.datawrangler.viewer.v0+json": {
       "columns": [
        {
         "name": "index",
         "rawType": "int64",
         "type": "integer"
        },
        {
         "name": "Name",
         "rawType": "object",
         "type": "string"
        },
        {
         "name": "Age",
         "rawType": "int64",
         "type": "integer"
        },
        {
         "name": "Sex",
         "rawType": "object",
         "type": "string"
        }
       ],
       "ref": "62495e9c-cd9a-4ab9-98ba-5b8b597d20f8",
       "rows": [
        [
         "0",
         "Nguyen Van A",
         "20",
         "Male"
        ],
        [
         "1",
         "Nguyen Van B",
         "21",
         "Female"
        ],
        [
         "2",
         "Nguyen Van C",
         "22",
         "Male"
        ]
       ],
       "shape": {
        "columns": 3,
        "rows": 3
       }
      },
      "text/html": [
       "<div>\n",
       "<style scoped>\n",
       "    .dataframe tbody tr th:only-of-type {\n",
       "        vertical-align: middle;\n",
       "    }\n",
       "\n",
       "    .dataframe tbody tr th {\n",
       "        vertical-align: top;\n",
       "    }\n",
       "\n",
       "    .dataframe thead th {\n",
       "        text-align: right;\n",
       "    }\n",
       "</style>\n",
       "<table border=\"1\" class=\"dataframe\">\n",
       "  <thead>\n",
       "    <tr style=\"text-align: right;\">\n",
       "      <th></th>\n",
       "      <th>Name</th>\n",
       "      <th>Age</th>\n",
       "      <th>Sex</th>\n",
       "    </tr>\n",
       "  </thead>\n",
       "  <tbody>\n",
       "    <tr>\n",
       "      <th>0</th>\n",
       "      <td>Nguyen Van A</td>\n",
       "      <td>20</td>\n",
       "      <td>Male</td>\n",
       "    </tr>\n",
       "    <tr>\n",
       "      <th>1</th>\n",
       "      <td>Nguyen Van B</td>\n",
       "      <td>21</td>\n",
       "      <td>Female</td>\n",
       "    </tr>\n",
       "    <tr>\n",
       "      <th>2</th>\n",
       "      <td>Nguyen Van C</td>\n",
       "      <td>22</td>\n",
       "      <td>Male</td>\n",
       "    </tr>\n",
       "  </tbody>\n",
       "</table>\n",
       "</div>"
      ],
      "text/plain": [
       "           Name  Age     Sex\n",
       "0  Nguyen Van A   20    Male\n",
       "1  Nguyen Van B   21  Female\n",
       "2  Nguyen Van C   22    Male"
      ]
     },
     "execution_count": 62,
     "metadata": {},
     "output_type": "execute_result"
    }
   ],
   "source": [
    "dscanhan"
   ]
  },
  {
   "cell_type": "code",
   "execution_count": 63,
   "id": "8a09035e",
   "metadata": {},
   "outputs": [
    {
     "data": {
      "text/plain": [
       "Index(['Name', 'Age', 'Sex'], dtype='object')"
      ]
     },
     "execution_count": 63,
     "metadata": {},
     "output_type": "execute_result"
    }
   ],
   "source": [
    "dscanhan.columns"
   ]
  },
  {
   "cell_type": "code",
   "execution_count": 64,
   "id": "b622c915",
   "metadata": {},
   "outputs": [
    {
     "data": {
      "application/vnd.microsoft.datawrangler.viewer.v0+json": {
       "columns": [
        {
         "name": "index",
         "rawType": "int64",
         "type": "integer"
        },
        {
         "name": "Name",
         "rawType": "object",
         "type": "string"
        }
       ],
       "ref": "3b331f4a-336e-418a-a1c8-2b0da5767b78",
       "rows": [
        [
         "0",
         "Nguyen Van A"
        ],
        [
         "1",
         "Nguyen Van B"
        ],
        [
         "2",
         "Nguyen Van C"
        ]
       ],
       "shape": {
        "columns": 1,
        "rows": 3
       }
      },
      "text/plain": [
       "0    Nguyen Van A\n",
       "1    Nguyen Van B\n",
       "2    Nguyen Van C\n",
       "Name: Name, dtype: object"
      ]
     },
     "execution_count": 64,
     "metadata": {},
     "output_type": "execute_result"
    }
   ],
   "source": [
    "dscanhan[\"Name\"]"
   ]
  },
  {
   "cell_type": "code",
   "execution_count": 65,
   "id": "af1eba82",
   "metadata": {},
   "outputs": [
    {
     "data": {
      "application/vnd.microsoft.datawrangler.viewer.v0+json": {
       "columns": [
        {
         "name": "index",
         "rawType": "int64",
         "type": "integer"
        },
        {
         "name": "Name",
         "rawType": "object",
         "type": "string"
        }
       ],
       "ref": "2a1c1902-f9bf-4cf1-9f8c-a2a84b6065c9",
       "rows": [
        [
         "0",
         "Nguyen Van A"
        ],
        [
         "1",
         "Nguyen Van B"
        ],
        [
         "2",
         "Nguyen Van C"
        ]
       ],
       "shape": {
        "columns": 1,
        "rows": 3
       }
      },
      "text/plain": [
       "0    Nguyen Van A\n",
       "1    Nguyen Van B\n",
       "2    Nguyen Van C\n",
       "Name: Name, dtype: object"
      ]
     },
     "execution_count": 65,
     "metadata": {},
     "output_type": "execute_result"
    }
   ],
   "source": [
    "dscanhan.Name"
   ]
  },
  {
   "cell_type": "code",
   "execution_count": 66,
   "id": "5a98be7e",
   "metadata": {},
   "outputs": [
    {
     "data": {
      "text/plain": [
       "(pandas.core.series.Series, pandas.core.series.Series)"
      ]
     },
     "execution_count": 66,
     "metadata": {},
     "output_type": "execute_result"
    }
   ],
   "source": [
    "type(dscanhan.Name) , type(dscanhan[\"Name\"])"
   ]
  },
  {
   "cell_type": "code",
   "execution_count": 67,
   "id": "6a9a8fb9",
   "metadata": {},
   "outputs": [
    {
     "name": "stdout",
     "output_type": "stream",
     "text": [
      "<class 'pandas.core.frame.DataFrame'>\n",
      "RangeIndex: 3 entries, 0 to 2\n",
      "Data columns (total 3 columns):\n",
      " #   Column  Non-Null Count  Dtype \n",
      "---  ------  --------------  ----- \n",
      " 0   Name    3 non-null      object\n",
      " 1   Age     3 non-null      int64 \n",
      " 2   Sex     3 non-null      object\n",
      "dtypes: int64(1), object(2)\n",
      "memory usage: 204.0+ bytes\n"
     ]
    }
   ],
   "source": [
    "dscanhan.info()"
   ]
  },
  {
   "cell_type": "code",
   "execution_count": 68,
   "id": "245996cf",
   "metadata": {},
   "outputs": [
    {
     "data": {
      "text/plain": [
       "RangeIndex(start=0, stop=3, step=1)"
      ]
     },
     "execution_count": 68,
     "metadata": {},
     "output_type": "execute_result"
    }
   ],
   "source": [
    "dscanhan.index "
   ]
  },
  {
   "cell_type": "code",
   "execution_count": 74,
   "id": "7fc74977",
   "metadata": {},
   "outputs": [
    {
     "data": {
      "application/vnd.microsoft.datawrangler.viewer.v0+json": {
       "columns": [
        {
         "name": "index",
         "rawType": "int64",
         "type": "integer"
        },
        {
         "name": "Age",
         "rawType": "int64",
         "type": "integer"
        }
       ],
       "ref": "3b1fa74d-6f59-4b8f-ba3f-2840314c6d79",
       "rows": [
        [
         "2",
         "22"
        ],
        [
         "1",
         "21"
        ],
        [
         "0",
         "20"
        ]
       ],
       "shape": {
        "columns": 1,
        "rows": 3
       }
      },
      "text/plain": [
       "2    22\n",
       "1    21\n",
       "0    20\n",
       "Name: Age, dtype: int64"
      ]
     },
     "execution_count": 74,
     "metadata": {},
     "output_type": "execute_result"
    }
   ],
   "source": [
    "dscanhan.Age.sort_values(ascending=False)"
   ]
  },
  {
   "cell_type": "code",
   "execution_count": 75,
   "id": "3a01ab9e",
   "metadata": {},
   "outputs": [
    {
     "data": {
      "text/plain": [
       "array(['Male', 'Female'], dtype=object)"
      ]
     },
     "execution_count": 75,
     "metadata": {},
     "output_type": "execute_result"
    }
   ],
   "source": [
    "dscanhan.Sex.unique()"
   ]
  },
  {
   "cell_type": "code",
   "execution_count": 76,
   "id": "10ce9cf4",
   "metadata": {},
   "outputs": [
    {
     "data": {
      "text/plain": [
       "array([20, 21, 22], dtype=int64)"
      ]
     },
     "execution_count": 76,
     "metadata": {},
     "output_type": "execute_result"
    }
   ],
   "source": [
    "dscanhan.Age.unique()"
   ]
  },
  {
   "cell_type": "code",
   "execution_count": 77,
   "id": "0302496f",
   "metadata": {},
   "outputs": [
    {
     "data": {
      "application/vnd.microsoft.datawrangler.viewer.v0+json": {
       "columns": [
        {
         "name": "Sex",
         "rawType": "object",
         "type": "string"
        },
        {
         "name": "count",
         "rawType": "int64",
         "type": "integer"
        }
       ],
       "ref": "013c5e83-3fa7-47bd-a0d0-a1e59365026e",
       "rows": [
        [
         "Male",
         "2"
        ],
        [
         "Female",
         "1"
        ]
       ],
       "shape": {
        "columns": 1,
        "rows": 2
       }
      },
      "text/plain": [
       "Sex\n",
       "Male      2\n",
       "Female    1\n",
       "Name: count, dtype: int64"
      ]
     },
     "execution_count": 77,
     "metadata": {},
     "output_type": "execute_result"
    }
   ],
   "source": [
    "dscanhan.Sex.value_counts()"
   ]
  },
  {
   "cell_type": "code",
   "execution_count": 78,
   "id": "dd9c0f14",
   "metadata": {},
   "outputs": [
    {
     "data": {
      "application/vnd.microsoft.datawrangler.viewer.v0+json": {
       "columns": [
        {
         "name": "index",
         "rawType": "int64",
         "type": "integer"
        },
        {
         "name": "Name",
         "rawType": "object",
         "type": "string"
        },
        {
         "name": "Age",
         "rawType": "int64",
         "type": "integer"
        },
        {
         "name": "Sex",
         "rawType": "object",
         "type": "string"
        }
       ],
       "ref": "696729b0-40bc-461b-93e1-ff5e8216129f",
       "rows": [
        [
         "0",
         "Nguyen Van A",
         "21",
         "Male"
        ],
        [
         "1",
         "Nguyen Van B",
         "22",
         "Female"
        ],
        [
         "2",
         "Nguyen Van C",
         "23",
         "Male"
        ]
       ],
       "shape": {
        "columns": 3,
        "rows": 3
       }
      },
      "text/html": [
       "<div>\n",
       "<style scoped>\n",
       "    .dataframe tbody tr th:only-of-type {\n",
       "        vertical-align: middle;\n",
       "    }\n",
       "\n",
       "    .dataframe tbody tr th {\n",
       "        vertical-align: top;\n",
       "    }\n",
       "\n",
       "    .dataframe thead th {\n",
       "        text-align: right;\n",
       "    }\n",
       "</style>\n",
       "<table border=\"1\" class=\"dataframe\">\n",
       "  <thead>\n",
       "    <tr style=\"text-align: right;\">\n",
       "      <th></th>\n",
       "      <th>Name</th>\n",
       "      <th>Age</th>\n",
       "      <th>Sex</th>\n",
       "    </tr>\n",
       "  </thead>\n",
       "  <tbody>\n",
       "    <tr>\n",
       "      <th>0</th>\n",
       "      <td>Nguyen Van A</td>\n",
       "      <td>21</td>\n",
       "      <td>Male</td>\n",
       "    </tr>\n",
       "    <tr>\n",
       "      <th>1</th>\n",
       "      <td>Nguyen Van B</td>\n",
       "      <td>22</td>\n",
       "      <td>Female</td>\n",
       "    </tr>\n",
       "    <tr>\n",
       "      <th>2</th>\n",
       "      <td>Nguyen Van C</td>\n",
       "      <td>23</td>\n",
       "      <td>Male</td>\n",
       "    </tr>\n",
       "  </tbody>\n",
       "</table>\n",
       "</div>"
      ],
      "text/plain": [
       "           Name  Age     Sex\n",
       "0  Nguyen Van A   21    Male\n",
       "1  Nguyen Van B   22  Female\n",
       "2  Nguyen Van C   23    Male"
      ]
     },
     "execution_count": 78,
     "metadata": {},
     "output_type": "execute_result"
    }
   ],
   "source": [
    "dscanhan.Age = dscanhan.Age + 1\n",
    "dscanhan"
   ]
  },
  {
   "cell_type": "code",
   "execution_count": 86,
   "id": "5763e826",
   "metadata": {},
   "outputs": [],
   "source": [
    "dscanhan.Age = dscanhan.Age.apply(lambda x: x + 1)"
   ]
  },
  {
   "cell_type": "code",
   "execution_count": 87,
   "id": "1a65824e",
   "metadata": {},
   "outputs": [
    {
     "data": {
      "application/vnd.microsoft.datawrangler.viewer.v0+json": {
       "columns": [
        {
         "name": "index",
         "rawType": "int64",
         "type": "integer"
        },
        {
         "name": "Name",
         "rawType": "object",
         "type": "string"
        },
        {
         "name": "Age",
         "rawType": "int64",
         "type": "integer"
        },
        {
         "name": "Sex",
         "rawType": "object",
         "type": "string"
        }
       ],
       "ref": "9221d052-f6c0-41e4-8298-c9369fea5333",
       "rows": [
        [
         "0",
         "Nguyen Van A",
         "23",
         "Male"
        ],
        [
         "1",
         "Nguyen Van B",
         "24",
         "Female"
        ],
        [
         "2",
         "Nguyen Van C",
         "25",
         "Male"
        ]
       ],
       "shape": {
        "columns": 3,
        "rows": 3
       }
      },
      "text/html": [
       "<div>\n",
       "<style scoped>\n",
       "    .dataframe tbody tr th:only-of-type {\n",
       "        vertical-align: middle;\n",
       "    }\n",
       "\n",
       "    .dataframe tbody tr th {\n",
       "        vertical-align: top;\n",
       "    }\n",
       "\n",
       "    .dataframe thead th {\n",
       "        text-align: right;\n",
       "    }\n",
       "</style>\n",
       "<table border=\"1\" class=\"dataframe\">\n",
       "  <thead>\n",
       "    <tr style=\"text-align: right;\">\n",
       "      <th></th>\n",
       "      <th>Name</th>\n",
       "      <th>Age</th>\n",
       "      <th>Sex</th>\n",
       "    </tr>\n",
       "  </thead>\n",
       "  <tbody>\n",
       "    <tr>\n",
       "      <th>0</th>\n",
       "      <td>Nguyen Van A</td>\n",
       "      <td>23</td>\n",
       "      <td>Male</td>\n",
       "    </tr>\n",
       "    <tr>\n",
       "      <th>1</th>\n",
       "      <td>Nguyen Van B</td>\n",
       "      <td>24</td>\n",
       "      <td>Female</td>\n",
       "    </tr>\n",
       "    <tr>\n",
       "      <th>2</th>\n",
       "      <td>Nguyen Van C</td>\n",
       "      <td>25</td>\n",
       "      <td>Male</td>\n",
       "    </tr>\n",
       "  </tbody>\n",
       "</table>\n",
       "</div>"
      ],
      "text/plain": [
       "           Name  Age     Sex\n",
       "0  Nguyen Van A   23    Male\n",
       "1  Nguyen Van B   24  Female\n",
       "2  Nguyen Van C   25    Male"
      ]
     },
     "execution_count": 87,
     "metadata": {},
     "output_type": "execute_result"
    }
   ],
   "source": [
    "dscanhan"
   ]
  },
  {
   "cell_type": "markdown",
   "id": "39bf7ae4",
   "metadata": {},
   "source": [
    "## đọc tập tin dữ liệu\n"
   ]
  },
  {
   "cell_type": "code",
   "execution_count": 89,
   "id": "67f5bc9e",
   "metadata": {},
   "outputs": [
    {
     "data": {
      "application/vnd.microsoft.datawrangler.viewer.v0+json": {
       "columns": [
        {
         "name": "index",
         "rawType": "int64",
         "type": "integer"
        },
        {
         "name": "STT",
         "rawType": "int64",
         "type": "integer"
        },
        {
         "name": "HoTen",
         "rawType": "object",
         "type": "string"
        },
        {
         "name": "Toan",
         "rawType": "int64",
         "type": "integer"
        },
        {
         "name": "Ly",
         "rawType": "int64",
         "type": "integer"
        },
        {
         "name": "Hoa",
         "rawType": "int64",
         "type": "integer"
        }
       ],
       "ref": "340b386d-c97e-4366-abd0-3db69a361f67",
       "rows": [
        [
         "0",
         "1",
         "A Tí",
         "5",
         "6",
         "7"
        ],
        [
         "1",
         "2",
         "A Tú",
         "6",
         "9",
         "8"
        ],
        [
         "2",
         "3",
         "A Phủ",
         "7",
         "8",
         "9"
        ]
       ],
       "shape": {
        "columns": 5,
        "rows": 3
       }
      },
      "text/html": [
       "<div>\n",
       "<style scoped>\n",
       "    .dataframe tbody tr th:only-of-type {\n",
       "        vertical-align: middle;\n",
       "    }\n",
       "\n",
       "    .dataframe tbody tr th {\n",
       "        vertical-align: top;\n",
       "    }\n",
       "\n",
       "    .dataframe thead th {\n",
       "        text-align: right;\n",
       "    }\n",
       "</style>\n",
       "<table border=\"1\" class=\"dataframe\">\n",
       "  <thead>\n",
       "    <tr style=\"text-align: right;\">\n",
       "      <th></th>\n",
       "      <th>STT</th>\n",
       "      <th>HoTen</th>\n",
       "      <th>Toan</th>\n",
       "      <th>Ly</th>\n",
       "      <th>Hoa</th>\n",
       "    </tr>\n",
       "  </thead>\n",
       "  <tbody>\n",
       "    <tr>\n",
       "      <th>0</th>\n",
       "      <td>1</td>\n",
       "      <td>A Tí</td>\n",
       "      <td>5</td>\n",
       "      <td>6</td>\n",
       "      <td>7</td>\n",
       "    </tr>\n",
       "    <tr>\n",
       "      <th>1</th>\n",
       "      <td>2</td>\n",
       "      <td>A Tú</td>\n",
       "      <td>6</td>\n",
       "      <td>9</td>\n",
       "      <td>8</td>\n",
       "    </tr>\n",
       "    <tr>\n",
       "      <th>2</th>\n",
       "      <td>3</td>\n",
       "      <td>A Phủ</td>\n",
       "      <td>7</td>\n",
       "      <td>8</td>\n",
       "      <td>9</td>\n",
       "    </tr>\n",
       "  </tbody>\n",
       "</table>\n",
       "</div>"
      ],
      "text/plain": [
       "   STT  HoTen  Toan  Ly  Hoa\n",
       "0    1   A Tí     5   6    7\n",
       "1    2   A Tú     6   9    8\n",
       "2    3  A Phủ     7   8    9"
      ]
     },
     "execution_count": 89,
     "metadata": {},
     "output_type": "execute_result"
    }
   ],
   "source": [
    "dldiemso = pd.read_csv(\"data/dsdiemthi.csv\")\n",
    "dldiemso"
   ]
  },
  {
   "cell_type": "code",
   "execution_count": 90,
   "id": "96ac35e2",
   "metadata": {},
   "outputs": [
    {
     "data": {
      "text/plain": [
       "Index(['STT', 'HoTen', 'Toan', 'Ly', 'Hoa'], dtype='object')"
      ]
     },
     "execution_count": 90,
     "metadata": {},
     "output_type": "execute_result"
    }
   ],
   "source": [
    "dldiemso.columns"
   ]
  },
  {
   "cell_type": "code",
   "execution_count": 91,
   "id": "7b549b90",
   "metadata": {},
   "outputs": [
    {
     "data": {
      "application/vnd.microsoft.datawrangler.viewer.v0+json": {
       "columns": [
        {
         "name": "index",
         "rawType": "int64",
         "type": "integer"
        },
        {
         "name": "Toan",
         "rawType": "int64",
         "type": "integer"
        }
       ],
       "ref": "f5a3714d-8592-4d76-9d33-589bc7234671",
       "rows": [
        [
         "0",
         "5"
        ],
        [
         "1",
         "6"
        ],
        [
         "2",
         "7"
        ]
       ],
       "shape": {
        "columns": 1,
        "rows": 3
       }
      },
      "text/plain": [
       "0    5\n",
       "1    6\n",
       "2    7\n",
       "Name: Toan, dtype: int64"
      ]
     },
     "execution_count": 91,
     "metadata": {},
     "output_type": "execute_result"
    }
   ],
   "source": [
    "dldiemso.Toan"
   ]
  },
  {
   "cell_type": "code",
   "execution_count": 92,
   "id": "5a00ced1",
   "metadata": {},
   "outputs": [],
   "source": [
    "dldiemso[\"TrungBinh\"] = np.round((dldiemso.Toan + dldiemso.Ly + dldiemso.Hoa) / 3 , 1) "
   ]
  },
  {
   "cell_type": "code",
   "execution_count": 93,
   "id": "b3c042cc",
   "metadata": {},
   "outputs": [
    {
     "data": {
      "application/vnd.microsoft.datawrangler.viewer.v0+json": {
       "columns": [
        {
         "name": "index",
         "rawType": "int64",
         "type": "integer"
        },
        {
         "name": "STT",
         "rawType": "int64",
         "type": "integer"
        },
        {
         "name": "HoTen",
         "rawType": "object",
         "type": "string"
        },
        {
         "name": "Toan",
         "rawType": "int64",
         "type": "integer"
        },
        {
         "name": "Ly",
         "rawType": "int64",
         "type": "integer"
        },
        {
         "name": "Hoa",
         "rawType": "int64",
         "type": "integer"
        },
        {
         "name": "TrungBinh",
         "rawType": "float64",
         "type": "float"
        }
       ],
       "ref": "95a589b9-3540-48ce-95f3-538c30e0ab69",
       "rows": [
        [
         "0",
         "1",
         "A Tí",
         "5",
         "6",
         "7",
         "6.0"
        ],
        [
         "1",
         "2",
         "A Tú",
         "6",
         "9",
         "8",
         "7.7"
        ],
        [
         "2",
         "3",
         "A Phủ",
         "7",
         "8",
         "9",
         "8.0"
        ]
       ],
       "shape": {
        "columns": 6,
        "rows": 3
       }
      },
      "text/html": [
       "<div>\n",
       "<style scoped>\n",
       "    .dataframe tbody tr th:only-of-type {\n",
       "        vertical-align: middle;\n",
       "    }\n",
       "\n",
       "    .dataframe tbody tr th {\n",
       "        vertical-align: top;\n",
       "    }\n",
       "\n",
       "    .dataframe thead th {\n",
       "        text-align: right;\n",
       "    }\n",
       "</style>\n",
       "<table border=\"1\" class=\"dataframe\">\n",
       "  <thead>\n",
       "    <tr style=\"text-align: right;\">\n",
       "      <th></th>\n",
       "      <th>STT</th>\n",
       "      <th>HoTen</th>\n",
       "      <th>Toan</th>\n",
       "      <th>Ly</th>\n",
       "      <th>Hoa</th>\n",
       "      <th>TrungBinh</th>\n",
       "    </tr>\n",
       "  </thead>\n",
       "  <tbody>\n",
       "    <tr>\n",
       "      <th>0</th>\n",
       "      <td>1</td>\n",
       "      <td>A Tí</td>\n",
       "      <td>5</td>\n",
       "      <td>6</td>\n",
       "      <td>7</td>\n",
       "      <td>6.0</td>\n",
       "    </tr>\n",
       "    <tr>\n",
       "      <th>1</th>\n",
       "      <td>2</td>\n",
       "      <td>A Tú</td>\n",
       "      <td>6</td>\n",
       "      <td>9</td>\n",
       "      <td>8</td>\n",
       "      <td>7.7</td>\n",
       "    </tr>\n",
       "    <tr>\n",
       "      <th>2</th>\n",
       "      <td>3</td>\n",
       "      <td>A Phủ</td>\n",
       "      <td>7</td>\n",
       "      <td>8</td>\n",
       "      <td>9</td>\n",
       "      <td>8.0</td>\n",
       "    </tr>\n",
       "  </tbody>\n",
       "</table>\n",
       "</div>"
      ],
      "text/plain": [
       "   STT  HoTen  Toan  Ly  Hoa  TrungBinh\n",
       "0    1   A Tí     5   6    7        6.0\n",
       "1    2   A Tú     6   9    8        7.7\n",
       "2    3  A Phủ     7   8    9        8.0"
      ]
     },
     "execution_count": 93,
     "metadata": {},
     "output_type": "execute_result"
    }
   ],
   "source": [
    "dldiemso"
   ]
  },
  {
   "cell_type": "code",
   "execution_count": 94,
   "id": "def0ae2c",
   "metadata": {},
   "outputs": [
    {
     "data": {
      "application/vnd.microsoft.datawrangler.viewer.v0+json": {
       "columns": [
        {
         "name": "index",
         "rawType": "int64",
         "type": "integer"
        },
        {
         "name": "HoTen",
         "rawType": "object",
         "type": "string"
        },
        {
         "name": "TrungBinh",
         "rawType": "float64",
         "type": "float"
        }
       ],
       "ref": "dd43c3c9-5a7e-4d6c-b65a-50a94eb6af56",
       "rows": [
        [
         "0",
         "A Tí",
         "6.0"
        ],
        [
         "1",
         "A Tú",
         "7.7"
        ],
        [
         "2",
         "A Phủ",
         "8.0"
        ]
       ],
       "shape": {
        "columns": 2,
        "rows": 3
       }
      },
      "text/html": [
       "<div>\n",
       "<style scoped>\n",
       "    .dataframe tbody tr th:only-of-type {\n",
       "        vertical-align: middle;\n",
       "    }\n",
       "\n",
       "    .dataframe tbody tr th {\n",
       "        vertical-align: top;\n",
       "    }\n",
       "\n",
       "    .dataframe thead th {\n",
       "        text-align: right;\n",
       "    }\n",
       "</style>\n",
       "<table border=\"1\" class=\"dataframe\">\n",
       "  <thead>\n",
       "    <tr style=\"text-align: right;\">\n",
       "      <th></th>\n",
       "      <th>HoTen</th>\n",
       "      <th>TrungBinh</th>\n",
       "    </tr>\n",
       "  </thead>\n",
       "  <tbody>\n",
       "    <tr>\n",
       "      <th>0</th>\n",
       "      <td>A Tí</td>\n",
       "      <td>6.0</td>\n",
       "    </tr>\n",
       "    <tr>\n",
       "      <th>1</th>\n",
       "      <td>A Tú</td>\n",
       "      <td>7.7</td>\n",
       "    </tr>\n",
       "    <tr>\n",
       "      <th>2</th>\n",
       "      <td>A Phủ</td>\n",
       "      <td>8.0</td>\n",
       "    </tr>\n",
       "  </tbody>\n",
       "</table>\n",
       "</div>"
      ],
      "text/plain": [
       "   HoTen  TrungBinh\n",
       "0   A Tí        6.0\n",
       "1   A Tú        7.7\n",
       "2  A Phủ        8.0"
      ]
     },
     "execution_count": 94,
     "metadata": {},
     "output_type": "execute_result"
    }
   ],
   "source": [
    "dldiemso[ [\"HoTen\", \"TrungBinh\"] ]"
   ]
  },
  {
   "cell_type": "code",
   "execution_count": 101,
   "id": "882556d5",
   "metadata": {},
   "outputs": [
    {
     "data": {
      "application/vnd.microsoft.datawrangler.viewer.v0+json": {
       "columns": [
        {
         "name": "index",
         "rawType": "int64",
         "type": "integer"
        },
        {
         "name": "STT",
         "rawType": "int64",
         "type": "integer"
        },
        {
         "name": "HoTen",
         "rawType": "object",
         "type": "string"
        },
        {
         "name": "Toan",
         "rawType": "int64",
         "type": "integer"
        },
        {
         "name": "Ly",
         "rawType": "int64",
         "type": "integer"
        },
        {
         "name": "Hoa",
         "rawType": "int64",
         "type": "integer"
        },
        {
         "name": "TrungBinh",
         "rawType": "float64",
         "type": "float"
        }
       ],
       "ref": "4e3a6e5e-1fc0-4620-a45e-24ce075dbc67",
       "rows": [
        [
         "1",
         "2",
         "A Tú",
         "6",
         "9",
         "8",
         "7.7"
        ],
        [
         "2",
         "3",
         "A Phủ",
         "7",
         "8",
         "9",
         "8.0"
        ]
       ],
       "shape": {
        "columns": 6,
        "rows": 2
       }
      },
      "text/html": [
       "<div>\n",
       "<style scoped>\n",
       "    .dataframe tbody tr th:only-of-type {\n",
       "        vertical-align: middle;\n",
       "    }\n",
       "\n",
       "    .dataframe tbody tr th {\n",
       "        vertical-align: top;\n",
       "    }\n",
       "\n",
       "    .dataframe thead th {\n",
       "        text-align: right;\n",
       "    }\n",
       "</style>\n",
       "<table border=\"1\" class=\"dataframe\">\n",
       "  <thead>\n",
       "    <tr style=\"text-align: right;\">\n",
       "      <th></th>\n",
       "      <th>STT</th>\n",
       "      <th>HoTen</th>\n",
       "      <th>Toan</th>\n",
       "      <th>Ly</th>\n",
       "      <th>Hoa</th>\n",
       "      <th>TrungBinh</th>\n",
       "    </tr>\n",
       "  </thead>\n",
       "  <tbody>\n",
       "    <tr>\n",
       "      <th>1</th>\n",
       "      <td>2</td>\n",
       "      <td>A Tú</td>\n",
       "      <td>6</td>\n",
       "      <td>9</td>\n",
       "      <td>8</td>\n",
       "      <td>7.7</td>\n",
       "    </tr>\n",
       "    <tr>\n",
       "      <th>2</th>\n",
       "      <td>3</td>\n",
       "      <td>A Phủ</td>\n",
       "      <td>7</td>\n",
       "      <td>8</td>\n",
       "      <td>9</td>\n",
       "      <td>8.0</td>\n",
       "    </tr>\n",
       "  </tbody>\n",
       "</table>\n",
       "</div>"
      ],
      "text/plain": [
       "   STT  HoTen  Toan  Ly  Hoa  TrungBinh\n",
       "1    2   A Tú     6   9    8        7.7\n",
       "2    3  A Phủ     7   8    9        8.0"
      ]
     },
     "execution_count": 101,
     "metadata": {},
     "output_type": "execute_result"
    }
   ],
   "source": [
    "dldiemso[ (dldiemso.Toan >= 8) | (dldiemso.Ly >= 8) | (dldiemso.Hoa >= 8) ]"
   ]
  },
  {
   "cell_type": "code",
   "execution_count": 102,
   "id": "0a4801a0",
   "metadata": {},
   "outputs": [
    {
     "data": {
      "application/vnd.microsoft.datawrangler.viewer.v0+json": {
       "columns": [
        {
         "name": "index",
         "rawType": "int64",
         "type": "integer"
        },
        {
         "name": "STT",
         "rawType": "int64",
         "type": "integer"
        },
        {
         "name": "HoTen",
         "rawType": "object",
         "type": "string"
        },
        {
         "name": "Toan",
         "rawType": "int64",
         "type": "integer"
        },
        {
         "name": "Ly",
         "rawType": "int64",
         "type": "integer"
        },
        {
         "name": "Hoa",
         "rawType": "int64",
         "type": "integer"
        },
        {
         "name": "TrungBinh",
         "rawType": "float64",
         "type": "float"
        }
       ],
       "ref": "73cb00b9-bfe1-402c-aa96-bc46a7f724f1",
       "rows": [
        [
         "2",
         "3",
         "A Phủ",
         "7",
         "8",
         "9",
         "8.0"
        ]
       ],
       "shape": {
        "columns": 6,
        "rows": 1
       }
      },
      "text/html": [
       "<div>\n",
       "<style scoped>\n",
       "    .dataframe tbody tr th:only-of-type {\n",
       "        vertical-align: middle;\n",
       "    }\n",
       "\n",
       "    .dataframe tbody tr th {\n",
       "        vertical-align: top;\n",
       "    }\n",
       "\n",
       "    .dataframe thead th {\n",
       "        text-align: right;\n",
       "    }\n",
       "</style>\n",
       "<table border=\"1\" class=\"dataframe\">\n",
       "  <thead>\n",
       "    <tr style=\"text-align: right;\">\n",
       "      <th></th>\n",
       "      <th>STT</th>\n",
       "      <th>HoTen</th>\n",
       "      <th>Toan</th>\n",
       "      <th>Ly</th>\n",
       "      <th>Hoa</th>\n",
       "      <th>TrungBinh</th>\n",
       "    </tr>\n",
       "  </thead>\n",
       "  <tbody>\n",
       "    <tr>\n",
       "      <th>2</th>\n",
       "      <td>3</td>\n",
       "      <td>A Phủ</td>\n",
       "      <td>7</td>\n",
       "      <td>8</td>\n",
       "      <td>9</td>\n",
       "      <td>8.0</td>\n",
       "    </tr>\n",
       "  </tbody>\n",
       "</table>\n",
       "</div>"
      ],
      "text/plain": [
       "   STT  HoTen  Toan  Ly  Hoa  TrungBinh\n",
       "2    3  A Phủ     7   8    9        8.0"
      ]
     },
     "execution_count": 102,
     "metadata": {},
     "output_type": "execute_result"
    }
   ],
   "source": [
    "dldiemso[ dldiemso.TrungBinh >= 8 ]"
   ]
  },
  {
   "cell_type": "code",
   "execution_count": 103,
   "id": "bffdc6d1",
   "metadata": {},
   "outputs": [
    {
     "data": {
      "text/plain": [
       "<Axes: xlabel='HoTen'>"
      ]
     },
     "execution_count": 103,
     "metadata": {},
     "output_type": "execute_result"
    },
    {
     "data": {
      "image/png": "[encoded data removed]",
      "text/plain": [
       "<Figure size 640x480 with 1 Axes>"
      ]
     },
     "metadata": {},
     "output_type": "display_data"
    }
   ],
   "source": [
    "## Đồ thị dạng Bar về điểm \n",
    "\n",
    "dldiemso.plot.bar(x=\"HoTen\", y=[\"Toan\",\"Ly\", \"Hoa\"])"
   ]
  },
  {
   "cell_type": "markdown",
   "id": "4c7d9ad1",
   "metadata": {},
   "source": [
    "### IRIS - Hoa diên vĩ"
   ]
  },
  {
   "cell_type": "code",
   "execution_count": 104,
   "id": "96e93824",
   "metadata": {},
   "outputs": [
    {
     "data": {
      "application/vnd.microsoft.datawrangler.viewer.v0+json": {
       "columns": [
        {
         "name": "index",
         "rawType": "int64",
         "type": "integer"
        },
        {
         "name": "Sepal.Length",
         "rawType": "float64",
         "type": "float"
        },
        {
         "name": "Sepal.Width",
         "rawType": "float64",
         "type": "float"
        },
        {
         "name": "Petal.Length",
         "rawType": "float64",
         "type": "float"
        },
        {
         "name": "Petal.Width",
         "rawType": "float64",
         "type": "float"
        },
        {
         "name": "Species",
         "rawType": "object",
         "type": "string"
        }
       ],
       "ref": "51b5aff9-bee7-4e3a-b5a7-a8c60bb59d4d",
       "rows": [
        [
         "0",
         "5.1",
         "3.5",
         "1.4",
         "0.2",
         "setosa"
        ],
        [
         "1",
         "4.9",
         "3.0",
         "1.4",
         "0.2",
         "setosa"
        ],
        [
         "2",
         "4.7",
         "3.2",
         "1.3",
         "0.2",
         "setosa"
        ],
        [
         "3",
         "4.6",
         "3.1",
         "1.5",
         "0.2",
         "setosa"
        ],
        [
         "4",
         "5.0",
         "3.6",
         "1.4",
         "0.2",
         "setosa"
        ]
       ],
       "shape": {
        "columns": 5,
        "rows": 5
       }
      },
      "text/html": [
       "<div>\n",
       "<style scoped>\n",
       "    .dataframe tbody tr th:only-of-type {\n",
       "        vertical-align: middle;\n",
       "    }\n",
       "\n",
       "    .dataframe tbody tr th {\n",
       "        vertical-align: top;\n",
       "    }\n",
       "\n",
       "    .dataframe thead th {\n",
       "        text-align: right;\n",
       "    }\n",
       "</style>\n",
       "<table border=\"1\" class=\"dataframe\">\n",
       "  <thead>\n",
       "    <tr style=\"text-align: right;\">\n",
       "      <th></th>\n",
       "      <th>Sepal.Length</th>\n",
       "      <th>Sepal.Width</th>\n",
       "      <th>Petal.Length</th>\n",
       "      <th>Petal.Width</th>\n",
       "      <th>Species</th>\n",
       "    </tr>\n",
       "  </thead>\n",
       "  <tbody>\n",
       "    <tr>\n",
       "      <th>0</th>\n",
       "      <td>5.1</td>\n",
       "      <td>3.5</td>\n",
       "      <td>1.4</td>\n",
       "      <td>0.2</td>\n",
       "      <td>setosa</td>\n",
       "    </tr>\n",
       "    <tr>\n",
       "      <th>1</th>\n",
       "      <td>4.9</td>\n",
       "      <td>3.0</td>\n",
       "      <td>1.4</td>\n",
       "      <td>0.2</td>\n",
       "      <td>setosa</td>\n",
       "    </tr>\n",
       "    <tr>\n",
       "      <th>2</th>\n",
       "      <td>4.7</td>\n",
       "      <td>3.2</td>\n",
       "      <td>1.3</td>\n",
       "      <td>0.2</td>\n",
       "      <td>setosa</td>\n",
       "    </tr>\n",
       "    <tr>\n",
       "      <th>3</th>\n",
       "      <td>4.6</td>\n",
       "      <td>3.1</td>\n",
       "      <td>1.5</td>\n",
       "      <td>0.2</td>\n",
       "      <td>setosa</td>\n",
       "    </tr>\n",
       "    <tr>\n",
       "      <th>4</th>\n",
       "      <td>5.0</td>\n",
       "      <td>3.6</td>\n",
       "      <td>1.4</td>\n",
       "      <td>0.2</td>\n",
       "      <td>setosa</td>\n",
       "    </tr>\n",
       "  </tbody>\n",
       "</table>\n",
       "</div>"
      ],
      "text/plain": [
       "   Sepal.Length  Sepal.Width  Petal.Length  Petal.Width Species\n",
       "0           5.1          3.5           1.4          0.2  setosa\n",
       "1           4.9          3.0           1.4          0.2  setosa\n",
       "2           4.7          3.2           1.3          0.2  setosa\n",
       "3           4.6          3.1           1.5          0.2  setosa\n",
       "4           5.0          3.6           1.4          0.2  setosa"
      ]
     },
     "execution_count": 104,
     "metadata": {},
     "output_type": "execute_result"
    }
   ],
   "source": [
    "hoadienvi = pd.read_csv(\"data/data_Iris.csv\")\n",
    "hoadienvi.head(5)"
   ]
  },
  {
   "cell_type": "code",
   "execution_count": 105,
   "id": "3e91512f",
   "metadata": {},
   "outputs": [
    {
     "data": {
      "text/plain": [
       "Index(['Sepal.Length', 'Sepal.Width', 'Petal.Length', 'Petal.Width',\n",
       "       'Species'],\n",
       "      dtype='object')"
      ]
     },
     "execution_count": 105,
     "metadata": {},
     "output_type": "execute_result"
    }
   ],
   "source": [
    "hoadienvi.columns"
   ]
  },
  {
   "cell_type": "code",
   "execution_count": 106,
   "id": "cd33c645",
   "metadata": {},
   "outputs": [
    {
     "data": {
      "application/vnd.microsoft.datawrangler.viewer.v0+json": {
       "columns": [
        {
         "name": "Species",
         "rawType": "object",
         "type": "string"
        },
        {
         "name": "count",
         "rawType": "int64",
         "type": "integer"
        }
       ],
       "ref": "fc4d56c5-f2d5-424f-a67f-3868da643a24",
       "rows": [
        [
         "setosa",
         "50"
        ],
        [
         "versicolor",
         "50"
        ],
        [
         "virginica",
         "50"
        ]
       ],
       "shape": {
        "columns": 1,
        "rows": 3
       }
      },
      "text/plain": [
       "Species\n",
       "setosa        50\n",
       "versicolor    50\n",
       "virginica     50\n",
       "Name: count, dtype: int64"
      ]
     },
     "execution_count": 106,
     "metadata": {},
     "output_type": "execute_result"
    }
   ],
   "source": [
    "hoadienvi.Species.value_counts()"
   ]
  },
  {
   "cell_type": "code",
   "execution_count": 132,
   "id": "eaa45019",
   "metadata": {},
   "outputs": [
    {
     "data": {
      "text/plain": [
       "(['setosa', 'versicolor', 'virginica'], 0)"
      ]
     },
     "execution_count": 132,
     "metadata": {},
     "output_type": "execute_result"
    }
   ],
   "source": [
    "xx = hoadienvi['Species'].value_counts()\n",
    "yy = list(xx.keys()) \n",
    "\n",
    "yy , yy.index('setosa')"
   ]
  },
  {
   "cell_type": "code",
   "execution_count": 133,
   "id": "2888b491",
   "metadata": {},
   "outputs": [],
   "source": [
    "hoadienvi['Species_code'] = hoadienvi['Species'].apply(lambda x: yy.index(x))"
   ]
  },
  {
   "cell_type": "code",
   "execution_count": 137,
   "id": "a50cc3ed",
   "metadata": {},
   "outputs": [
    {
     "data": {
      "text/plain": [
       "<Axes: xlabel='Petal.Width', ylabel='Sepal.Width'>"
      ]
     },
     "execution_count": 137,
     "metadata": {},
     "output_type": "execute_result"
    },
    {
     "data": {
      "image/png": "[encoded data removed]",
      "text/plain": [
       "<Figure size 640x480 with 2 Axes>"
      ]
     },
     "metadata": {},
     "output_type": "display_data"
    }
   ],
   "source": [
    "hoadienvi.plot.scatter(x=\"Petal.Width\", y=\"Sepal.Width\", c='Species_code', s=30, colormap='Set1')"
   ]
  }
 ],
 "metadata": {
  "kernelspec": {
   "display_name": "Python 3",
   "language": "python",
   "name": "python3"
  },
  "language_info": {
   "codemirror_mode": {
    "name": "ipython",
    "version": 3
   },
   "file_extension": ".py",
   "mimetype": "text/x-python",
   "name": "python",
   "nbconvert_exporter": "python",
   "pygments_lexer": "ipython3",
   "version": "3.12.1"
  }
 },
 "nbformat": 4,
 "nbformat_minor": 5
}
